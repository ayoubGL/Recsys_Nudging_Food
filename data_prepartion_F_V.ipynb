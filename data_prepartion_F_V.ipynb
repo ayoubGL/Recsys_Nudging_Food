{
 "cells": [
  {
   "cell_type": "markdown",
   "id": "f370f696-b22d-47fe-964e-ade963f9e2d8",
   "metadata": {},
   "source": [
    "# Data Preparation\n",
    "\n",
    "__In this notebook, we will go through the steps followed in order to prepare the data required for our application. <br>\n",
    "The data used in this user study is provided by the well-known online recipe website [allrecipes](https://www.allrecipes.com/). <br>\n",
    "The data is meant to use for research purposes. <br>\n",
    "In a nutshell, the steps are :__\n",
    "  1. __Read the csv file of each category and add categpry column to DF__\n",
    "  2. __Extract the recipes that has image, as images will be used in our study__\n",
    "  3. __Compute Fsa and Nutri score for each recipe as main decision factor for healthiness of each recipe__\n",
    "  4. __Split recipies into healthy and unhealthy ones based on Fsa threshold (8)__\n",
    "  5. __Prepare rating matrices for each category, to be usd in recommendation generation phase__\n",
    "  6. __save the data__\n",
    "  7. __Optional: Push the data into Database__<br>\n",
    "For more information about the dataset: __ayoub.majjodi@uib.no__"
   ]
  },
  {
   "cell_type": "code",
   "execution_count": 3,
   "id": "2497778a-3e04-4bd1-b7ea-1aad7c14ea65",
   "metadata": {},
   "outputs": [],
   "source": [
    "import pandas as pd\n",
    "import numpy as np\n",
    "import matplotlib.pyplot as plt\n",
    "import seaborn as sns\n",
    "\n",
    "plt.figure(figsize=(10,10))\n",
    "sns.set(font_scale = 2)\n",
    "%matplotlib inline\n",
    "import warnings\n",
    "warnings.simplefilter(action='ignore', category=FutureWarning)"
   ]
  },
  {
   "cell_type": "code",
   "execution_count": 96,
   "id": "7bd5a2de-a61c-4b47-9e76-b64780755833",
   "metadata": {},
   "outputs": [],
   "source": [
    "# read data files\n",
    "def read_data(data):\n",
    "    sep = '\\t'\n",
    "    file = data + '.csv'\n",
    "    if data == 'images':\n",
    "        sep = ';'\n",
    "    row_data = pd.read_csv(file, sep = sep)\n",
    "    return row_data\n",
    "# size of each dataset\n",
    "def size(data, name):\n",
    "    return   print('number of recipes in {0}: {1}'.format( name, len(data)))"
   ]
  },
  {
   "cell_type": "code",
   "execution_count": 97,
   "id": "75ea3b95-0473-46fe-99c0-acc6c30b4cfd",
   "metadata": {},
   "outputs": [],
   "source": [
    "# read each category\n",
    "bbq = read_data('bbq')\n",
    "fruit_veg = read_data('fruits_vegetables')\n",
    "meat_poultry = read_data('Meat_poultry')\n",
    "pasta_noodles = read_data('pasta_and_noodles')\n",
    "salad = read_data('salad')\n",
    "seafood = read_data('Seafood')\n",
    "soups_chili = read_data('soups_stews_and_chili')\n",
    "images = read_data('images')"
   ]
  },
  {
   "cell_type": "code",
   "execution_count": 98,
   "id": "fb4a2adb-a55f-4564-8d45-09d537b3ff00",
   "metadata": {},
   "outputs": [
    {
     "name": "stdout",
     "output_type": "stream",
     "text": [
      "number of recipes in bbq: 1682\n",
      "number of recipes in fruit_veg: 19574\n",
      "number of recipes in meat_poultry: 12672\n",
      "number of recipes in pasta_noodles: 2692\n",
      "number of recipes in salad: 3031\n",
      "number of recipes in seafood: 3237\n",
      "number of recipes in soups_chili: 3605\n",
      "number of recipes in images: 162985\n"
     ]
    },
    {
     "data": {
      "text/plain": [
       "(None, None)"
      ]
     },
     "execution_count": 98,
     "metadata": {},
     "output_type": "execute_result"
    }
   ],
   "source": [
    "size(bbq, 'bbq'), size(fruit_veg, 'fruit_veg')\n",
    "size(meat_poultry, 'meat_poultry'), size(pasta_noodles, 'pasta_noodles')\n",
    "size(salad, 'salad'), size(seafood, 'seafood')\n",
    "size(soups_chili, 'soups_chili'), size(images, 'images')"
   ]
  },
  {
   "cell_type": "markdown",
   "id": "11c3d404-0082-4921-b819-e289fa089abd",
   "metadata": {},
   "source": [
    "## Add category column to the data"
   ]
  },
  {
   "cell_type": "code",
   "execution_count": 99,
   "id": "07a8e5a4-c9a6-4567-8df7-f1d352c577ef",
   "metadata": {},
   "outputs": [],
   "source": [
    "bbq['category'] = 'Barbecue'\n",
    "fruit_veg['category'] = 'Fruits and Vegetables'\n",
    "meat_poultry['category'] = 'Meat and Poultry'\n",
    "salad['category'] = 'Salad'\n",
    "pasta_noodles['category'] = 'Pasta and Noodles'\n",
    "seafood['category'] = 'Seafood'\n",
    "soups_chili['category'] = 'Soups and Chili'"
   ]
  },
  {
   "cell_type": "markdown",
   "id": "bbf2b3e6-3e35-48f7-93b8-b5ab7f60e3d2",
   "metadata": {},
   "source": [
    "# Extract recipes with images"
   ]
  },
  {
   "cell_type": "code",
   "execution_count": 100,
   "id": "72f88312-ab8c-4a96-b220-8f2942e48ee6",
   "metadata": {},
   "outputs": [],
   "source": [
    "def recipe_with_image(data, images):\n",
    "    images = images.drop_duplicates(subset=['recipe_id'])\n",
    "    data_with_image = pd.merge(data, images, left_on=  'URL',\n",
    "                   right_on= 'recipe_id', how='inner')\n",
    "    if data_with_image.isnull().values.any():\n",
    "           data_with_image= data_with_image.dropna()\n",
    "    data_with_image =  data_with_image.drop(['cook_id','recipe_id','date_added'], axis=1)\n",
    "    data_with_image['id'] = range(0, len(data_with_image))\n",
    "    first_column = data_with_image.pop('id')\n",
    "    data_with_image.insert(0,'id',first_column)\n",
    "    return data_with_image"
   ]
  },
  {
   "cell_type": "code",
   "execution_count": 101,
   "id": "1f7a0639-b987-47de-9fca-7c0b843fab2e",
   "metadata": {},
   "outputs": [],
   "source": [
    "final_bbq = recipe_with_image(bbq, images)\n",
    "final_fruit =  recipe_with_image(fruit_veg, images)\n",
    "final_meat_poultry =  recipe_with_image(meat_poultry, images)\n",
    "final_salad = recipe_with_image(salad, images)\n",
    "final_pasta_noodles = recipe_with_image(pasta_noodles, images)\n",
    "final_seafood = recipe_with_image(seafood, images)\n",
    "final_soups_chili = recipe_with_image(soups_chili, images)"
   ]
  },
  {
   "cell_type": "code",
   "execution_count": 102,
   "id": "b45952e1-65a5-43f1-b122-c60af9b58d23",
   "metadata": {},
   "outputs": [
    {
     "name": "stdout",
     "output_type": "stream",
     "text": [
      "number of recipes in bbq: 1200\n",
      "number of recipes in fruit_veg: 12916\n",
      "number of recipes in meat_poultry: 8375\n",
      "number of recipes in pasta_noodles: 1810\n",
      "number of recipes in salad: 2062\n",
      "number of recipes in seafood: 1931\n",
      "number of recipes in soups_chili: 2199\n"
     ]
    }
   ],
   "source": [
    "size(final_bbq, 'bbq'), size(final_fruit, 'fruit_veg')\n",
    "size(final_meat_poultry, 'meat_poultry'), size(final_pasta_noodles, 'pasta_noodles')\n",
    "size(final_salad, 'salad'), size(final_seafood, 'seafood')\n",
    "size(final_soups_chili, 'soups_chili')"
   ]
  },
  {
   "cell_type": "code",
   "execution_count": 103,
   "id": "60a8d180-a738-4648-be80-c53ce534a028",
   "metadata": {},
   "outputs": [],
   "source": [
    "final_bbq.to_csv('./Results/bbq.csv', index=False)\n",
    "final_fruit.to_csv('./Results/fruit.csv', index=False)\n",
    "final_meat_poultry.to_csv('./Results/meat_poultry.csv', index=False)\n",
    "final_pasta_noodles.to_csv('./Results/pasta_noodles.csv',index=False)\n",
    "final_salad.to_csv('./Results/salad.csv',index=False)\n",
    "final_seafood.to_csv('./Results/seafood.csv',index=False)\n",
    "final_soups_chili.to_csv('./Results/soup_chili.csv',index=False)"
   ]
  },
  {
   "cell_type": "markdown",
   "id": "37ff8477-49cf-4d36-a29f-1cdbddd58c01",
   "metadata": {},
   "source": [
    "# Concat recipes in one DF"
   ]
  },
  {
   "cell_type": "code",
   "execution_count": 104,
   "id": "a0193364-0bab-4e34-965a-cf5f83837a2f",
   "metadata": {},
   "outputs": [],
   "source": [
    "recipes = [final_bbq,final_fruit,final_meat_poultry,final_pasta_noodles,final_salad\n",
    "          ,final_seafood,final_soups_chili]\n",
    "final_recipes = pd.concat(recipes)\n",
    "final_recipes.to_csv('./Results/final_recipes.csv', index=False)"
   ]
  },
  {
   "cell_type": "code",
   "execution_count": 105,
   "id": "7f91002c-eaa1-40bc-81f4-bd7d2fdab660",
   "metadata": {},
   "outputs": [
    {
     "data": {
      "text/plain": [
       "Fruits and Vegetables    12916\n",
       "Meat and Poultry          8375\n",
       "Soups and Chili           2199\n",
       "Salad                     2062\n",
       "Seafood                   1931\n",
       "Pasta and Noodles         1810\n",
       "Barbecue                  1200\n",
       "Name: category, dtype: int64"
      ]
     },
     "execution_count": 105,
     "metadata": {},
     "output_type": "execute_result"
    }
   ],
   "source": [
    "final_recipes['category'].value_counts()"
   ]
  },
  {
   "cell_type": "markdown",
   "id": "20d94e3a-368a-4ca9-9e8c-ba9178143f8c",
   "metadata": {},
   "source": [
    "# Preapre nutrients for 100g and Nuri/Fsa score"
   ]
  },
  {
   "cell_type": "code",
   "execution_count": 560,
   "id": "1a648c05-2aae-4a72-866b-62295f505849",
   "metadata": {},
   "outputs": [
    {
     "data": {
      "text/plain": [
       "Index(['id', 'URL', 'Name', 'Fiber (g)', 'Sodium (g)', 'Carbohydrates (g)',\n",
       "       'Fat (g)', 'Protein (g)', 'Sugar (g)', 'Saturated Fat (g)', 'Size (g)',\n",
       "       'Servings', 'Calories (kCal)', 'Average Rating', 'Average Sentiment',\n",
       "       'Number of Ratings', 'Number of Bookmarks', 'Year of Publishing',\n",
       "       'category', 'image_link'],\n",
       "      dtype='object')"
      ]
     },
     "execution_count": 560,
     "metadata": {},
     "output_type": "execute_result"
    }
   ],
   "source": [
    "# read the data\n",
    "final_recipes = pd.read_csv('./Results/final_recipes.csv')\n",
    "final_recipes.columns"
   ]
  },
  {
   "cell_type": "code",
   "execution_count": 561,
   "id": "8ae9c392-48af-4faa-a2b2-f751399060fd",
   "metadata": {},
   "outputs": [],
   "source": [
    "final_recipes['fiber_100g'] = (final_recipes['Servings'] * final_recipes['Fiber (g)'] * 100) / final_recipes['Size (g)']\n",
    "final_recipes['fat_100g'] = (final_recipes['Servings'] * final_recipes['Fat (g)'] * 100) / final_recipes['Size (g)']\n",
    "final_recipes['sugar_100g'] = (final_recipes['Servings'] * final_recipes['Sugar (g)'] * 100) / final_recipes['Size (g)']\n",
    "final_recipes['saturated_100g'] = (final_recipes['Servings'] * final_recipes['Saturated Fat (g)'] * 100) / final_recipes['Size (g)']\n",
    "final_recipes['sodium_100mg'] = ((final_recipes['Servings'] * final_recipes['Sodium (g)'] * 100) / final_recipes['Size (g)'])*1000\n",
    "final_recipes['carbohydrates_100g'] = (final_recipes['Servings'] * final_recipes['Carbohydrates (g)'] * 100) / final_recipes['Size (g)']\n",
    "final_recipes['protein_100g'] = (final_recipes['Servings'] * final_recipes['Protein (g)'] * 100) / final_recipes['Size (g)']\n",
    "final_recipes['kj_100g'] = ((final_recipes['Servings'] * final_recipes['Calories (kCal)'] * 100) / final_recipes['Size (g)'])*4.1868\n",
    "final_recipes['Salt (g)'] = final_recipes['Sodium (g)'] * 2.54\n",
    "final_recipes['salt_100g'] = (final_recipes['Servings'] * final_recipes['Salt (g)'] * 100) / final_recipes['Size (g)']"
   ]
  },
  {
   "cell_type": "code",
   "execution_count": 562,
   "id": "45965bfa-5dda-4912-b5e9-190ba512e0a8",
   "metadata": {},
   "outputs": [],
   "source": [
    "# rename columns to match ones in database\n",
    "final_recipes = final_recipes.rename(columns={'Fiber (g)':'fiber_g','Sodium (g)':'sodium_g','Carbohydrates (g)':'carbohydrates_g',\n",
    "                                                           'Fat (g)':'fat_g','Protein (g)':'protein_g','Sugar (g)':'sugar_g',\n",
    "                                                           'Saturated Fat (g)':'saturate_g','Size (g)':'size_g',\n",
    "                                                           'Calories (kCal)':'calories_kCal', 'Salt (g)':'salt_g', 'Number of Ratings':'NumberRatings'})\n"
   ]
  },
  {
   "cell_type": "markdown",
   "id": "0b084043-1c94-40bd-8743-b186044aa89a",
   "metadata": {},
   "source": [
    "# Fsa Score based on :\n",
    "\n",
    "- compute the FSA score and Nutri score:\n",
    "\n",
    "- `https://www.food.gov.uk/sites/default/files/media/document/fop-guidance_0.pdf`\n",
    "\n",
    "- `https://www.santepubliquefrance.fr/content/download/150263/file/2021_07_21_QR_scientifique_et_technique_V41_EN.pdf <br>`\n",
    "- Paper: __Development of a new front-of-pack nutrition label in France: the five-colour Nutri-Score__"
   ]
  },
  {
   "cell_type": "code",
   "execution_count": 563,
   "id": "9d783489-6a27-4745-9c2f-f789fc180c97",
   "metadata": {},
   "outputs": [],
   "source": [
    "for i in final_recipes.index:\n",
    "    fat_count = satfat_count = sugar_count = salt_count = 2\n",
    "    if final_recipes.at[i,'fat_100g'] <= 3:\n",
    "        fat_count = 1\n",
    "    if final_recipes.at[i, 'fat_g'] > 21 or final_recipes.at[i, 'fat_100g'] > 17.5: # here the mistake :) > 17.5\n",
    "        fat_count = 3\n",
    "    if final_recipes.at[i,'saturated_100g'] <= 1.5:\n",
    "        satfat_count = 1\n",
    "    if final_recipes.at[i, 'saturate_g'] > 6 or final_recipes.at[i,'saturated_100g'] > 5:\n",
    "        satfat_count = 3\n",
    "    if final_recipes.at[i, 'sugar_100g'] <= 5:\n",
    "        sugar_count = 1\n",
    "    if final_recipes.at[i, 'sugar_100g'] > 22.5 or final_recipes.at[i, 'sugar_g'] > 27:\n",
    "        sugar_count = 3\n",
    "    if final_recipes.at[i, 'salt_100g'] <= 0.3:\n",
    "        salt_count = 1\n",
    "    if final_recipes.at[i, 'salt_100g'] > 1.5 or final_recipes.at[i, 'salt_g']> 1.8:\n",
    "        salt_count = 3 \n",
    "    final_recipes.at[i,'Fsa_new'] = fat_count + satfat_count + sugar_count + salt_count\n",
    "    final_recipes.at[i, 'fat_count'] = fat_count\n",
    "    final_recipes.at[i, 'satfat_count'] = satfat_count\n",
    "    final_recipes.at[i, 'sugar_count'] = sugar_count\n",
    "    final_recipes.at[i, 'salt_count'] = salt_count"
   ]
  },
  {
   "cell_type": "code",
   "execution_count": 564,
   "id": "7ee6c8bb-1707-49bc-b183-940415dda55c",
   "metadata": {},
   "outputs": [
    {
     "data": {
      "text/plain": [
       "4.0     1045\n",
       "5.0     2069\n",
       "6.0     3801\n",
       "7.0     3660\n",
       "8.0     4212\n",
       "9.0     4477\n",
       "10.0    5908\n",
       "11.0     862\n",
       "12.0     198\n",
       "Name: Fsa_new, dtype: int64"
      ]
     },
     "execution_count": 564,
     "metadata": {},
     "output_type": "execute_result"
    }
   ],
   "source": [
    "## FSA score distribution\n",
    "final_recipes['Fsa_new'].value_counts().sort_index()"
   ]
  },
  {
   "cell_type": "code",
   "execution_count": 567,
   "id": "e7ee5d33-30db-4577-ab38-cb1109987df3",
   "metadata": {},
   "outputs": [],
   "source": [
    "## Genereate the Nutri-score annotation for a given value\n",
    "def NutriScore_string(score):\n",
    "    str_score = ''\n",
    "    if score in range(-15, 0):\n",
    "        str_score = 'A'\n",
    "    if score in range(0,3):\n",
    "        str_score = 'B'\n",
    "    if score in range(3,11):\n",
    "        str_score = 'C'\n",
    "    if score in range(11,19):\n",
    "        str_score = 'D'\n",
    "    if score in range(19,41):\n",
    "        str_score = 'E'\n",
    "    return str_score    "
   ]
  },
  {
   "cell_type": "code",
   "execution_count": 568,
   "id": "4764bdfb-1f1d-437c-8c7e-0b2bcb5f9535",
   "metadata": {},
   "outputs": [],
   "source": [
    "# compute nutri- score\n",
    "for i in final_recipes.index.to_list():\n",
    "#     print(i)\n",
    "    # assign a point to enrgyA\n",
    "    energy = final_recipes.at[i,'kj_100g']\n",
    "    if energy > 3350:\n",
    "        kj_point = 10\n",
    "    else:\n",
    "        energy_level = energy % 335 # if the rest of is > 335 move to next point\n",
    "        if energy_level <= 335:\n",
    "            kj_point = energy // 335\n",
    "        else:\n",
    "            kj_point = (energy // 335) + 1\n",
    "    # assign a point to Sugar\n",
    "    sugar = final_recipes.at[i, 'sugar_100g']\n",
    "    if sugar > 45:\n",
    "        sg_point = 10\n",
    "    else:\n",
    "        sg_level = sugar % 4.5\n",
    "        if sg_level <= 4.5:\n",
    "            sg_point = sugar // 4.5\n",
    "        else:\n",
    "            sg_point = (sugar // 4.5) + 1\n",
    "    # assign a point to saturated_100g\n",
    "    sat_fat = final_recipes.at[i, 'saturated_100g']\n",
    "    if sat_fat > 10:\n",
    "        sf_point = 10\n",
    "    else:\n",
    "        sf_level = sat_fat % 1\n",
    "        if sf_level <= 1:\n",
    "            sf_point = sat_fat // 1\n",
    "        else:\n",
    "            sf_point = (sat_fat // 1) + 1\n",
    "    # assign a point to sodium_100mg\n",
    "    sodium = final_recipes.at[i, 'sodium_100mg']\n",
    "    if sodium > 900:\n",
    "        sdm_point = 10\n",
    "    else:\n",
    "        sdm_level = sodium % 90\n",
    "        if sdm_level <= 90:\n",
    "            sdm_point = sodium // 90\n",
    "        else:\n",
    "            sdm_point = (sodium // 90) + 1\n",
    "\n",
    "    N_point = kj_point + sg_point + sf_point + sdm_point # negative point\n",
    "\n",
    "    # positive point \n",
    "    fiber = final_recipes.at[i, 'fiber_100g']\n",
    "    protien = final_recipes.at[i, 'protein_g']\n",
    "    # fiber\n",
    "    if fiber > 4.7:\n",
    "        fb_point = 5\n",
    "    else:\n",
    "        fb_level = fiber % 0.9\n",
    "        if fb_level <= 0.9:\n",
    "            fb_point = fiber // 0.9\n",
    "        else:\n",
    "            fb_point = (fiber // 0.9) + 1\n",
    "    # protien\n",
    "    if protien > 8:\n",
    "        pr_point = 5\n",
    "    else:\n",
    "        pr_level = protien % 1.6\n",
    "        if pr_level <= 1.6:\n",
    "            pr_point = protien // 1.6\n",
    "        else:\n",
    "            pr_point = (protien // 1.6) + 1\n",
    "    if N_point > 11:\n",
    "        P_point = fb_point\n",
    "    else:\n",
    "        P_point = fb_point + pr_point\n",
    "\n",
    "    # Nutri score\n",
    "    Score = N_point - P_point\n",
    "#     print(Score)\n",
    "    final_recipes.at[i, 'Nutri_score'] = NutriScore_string(Score) # fct above"
   ]
  },
  {
   "cell_type": "code",
   "execution_count": 569,
   "id": "2c277a30-f311-4082-adb6-2a361fcc5d85",
   "metadata": {},
   "outputs": [
    {
     "data": {
      "text/plain": [
       "A    9059\n",
       "B    6133\n",
       "C    5706\n",
       "D    4387\n",
       "E     947\n",
       "Name: Nutri_score, dtype: int64"
      ]
     },
     "execution_count": 569,
     "metadata": {},
     "output_type": "execute_result"
    }
   ],
   "source": [
    "# Nutri score distribution \n",
    "final_recipes.Nutri_score.value_counts().sort_index()"
   ]
  },
  {
   "cell_type": "code",
   "execution_count": 570,
   "id": "6bb742f3",
   "metadata": {},
   "outputs": [],
   "source": [
    "### Prepare Recipe rating matrix to benchamrk RS algorithms "
   ]
  },
  {
   "cell_type": "code",
   "execution_count": 114,
   "id": "f98df789-45c4-44d5-8ebe-3cab7ad9e67b",
   "metadata": {},
   "outputs": [
    {
     "data": {
      "text/plain": [
       "Index(['userid', 'recipeid', 'rating', 'Name'], dtype='object')"
      ]
     },
     "execution_count": 114,
     "metadata": {},
     "output_type": "execute_result"
    }
   ],
   "source": [
    "rating_profile = pd.read_csv('Rating-Profile_Merged.csv', sep=';')\n",
    "rating_profile = rating_profile.rename(columns = {'name':'Name'})\n",
    "rating_profile = rating_profile[['userid','recipeid','rating','Name']]\n",
    "rating_profile.columns"
   ]
  },
  {
   "cell_type": "code",
   "execution_count": 115,
   "id": "bc99392c-e764-4564-bcd2-9429a01cd9b9",
   "metadata": {},
   "outputs": [
    {
     "data": {
      "text/plain": [
       "Meat and Poultry         39332\n",
       "Fruits and Vegetables    17328\n",
       "Pasta and Noodles         5924\n",
       "Barbecue                  5665\n",
       "Seafood                   5382\n",
       "Salad                       68\n",
       "Name: category, dtype: int64"
      ]
     },
     "execution_count": 115,
     "metadata": {},
     "output_type": "execute_result"
    }
   ],
   "source": [
    "final_recipes = final_recipes.merge(rating_profile, on = 'Name')\n",
    "final_recipes.category.value_counts()"
   ]
  },
  {
   "cell_type": "code",
   "execution_count": 117,
   "id": "94d49316-dd63-45d6-b17e-7b0530719210",
   "metadata": {},
   "outputs": [],
   "source": [
    "# select recipes \n",
    "final_recipes = final_recipes[['recipeid','userid','rating','URL','Name','fiber_g','sodium_g','carbohydrates_g','fat_g','protein_g','sugar_g','saturate_g', 'size_g','Servings',\n",
    "                  'calories_kCal','category','image_link','fat_100g','fiber_100g','sugar_100g','saturated_100g','protein_100g','sodium_100mg',  \n",
    "                  'carbohydrates_100g','kj_100g','Nutri_score','Fsa_new','salt_100g','salt_g','fat_count','satfat_count','sugar_count','salt_count','NumberRatings']]"
   ]
  },
  {
   "cell_type": "markdown",
   "id": "aa86e87b-0ab3-48b6-8829-41ec780f956a",
   "metadata": {},
   "source": [
    "### Split based on Fsa score, with a thershold 8"
   ]
  },
  {
   "cell_type": "code",
   "execution_count": 118,
   "id": "dfd5b0e6-9fa0-4bc1-a97b-99b2f1c732fd",
   "metadata": {},
   "outputs": [],
   "source": [
    "# The split is based on what is considered healthy and less healthy from UK food standard agency view point\n",
    "final_healthy = final_recipes[final_recipes.Fsa_new <= 8]\n",
    "final_unhealthy = final_recipes[final_recipes.Fsa_new > 8]"
   ]
  },
  {
   "cell_type": "markdown",
   "id": "be998c50-ccb7-48be-aa5f-b2299f89d8d7",
   "metadata": {},
   "source": [
    "### Split based on category\n",
    "\n",
    "- As the recommender algorithm, "
   ]
  },
  {
   "cell_type": "markdown",
   "id": "0bb6f630",
   "metadata": {},
   "source": [
    "a"
   ]
  },
  {
   "cell_type": "code",
   "execution_count": 119,
   "id": "8559e216-e3ed-44a0-a82b-793e678a5b2b",
   "metadata": {},
   "outputs": [],
   "source": [
    "def split_data(category):\n",
    "    h_cat_data = final_healthy[final_healthy.category == category][['recipeid','userid','rating']]\n",
    "    unh_cat_data = final_unhealthy[final_unhealthy.category == category][['recipeid','userid','rating']]\n",
    "    \n",
    "    # save data h/unh rating matrix\n",
    "    h_cat_data.to_csv('./recipe_recommender/rating_matrix/h_'+category.replace(' ','_')+'.csv', index=False, header=False)\n",
    "    unh_cat_data.to_csv('./recipe_recommender/rating_matrix//unh_'+category.replace(' ','_')+'.csv', index=False, header=False)\n",
    "    \n",
    "    return \"ok :)\""
   ]
  },
  {
   "cell_type": "code",
   "execution_count": 120,
   "id": "98aa9f8d-3eb5-4e1c-a8d8-79c19b19651f",
   "metadata": {},
   "outputs": [],
   "source": [
    "for cat in final_healthy.category.value_counts().index:\n",
    "    split_data(cat)"
   ]
  },
  {
   "cell_type": "code",
   "execution_count": 121,
   "id": "1a20c0ca-683c-4c8e-8a38-a6cbc6f0227e",
   "metadata": {},
   "outputs": [],
   "source": [
    "final_healthy.drop_duplicates(subset=['recipeid'], inplace=True)\n",
    "final_unhealthy.drop_duplicates(subset=['recipeid'], inplace=True)"
   ]
  },
  {
   "cell_type": "code",
   "execution_count": 122,
   "id": "9057b41e-b66c-49b1-b881-9d813b469f5f",
   "metadata": {},
   "outputs": [
    {
     "data": {
      "text/plain": [
       "Index(['recipeid', 'userid', 'rating', 'URL', 'Name', 'fiber_g', 'sodium_g',\n",
       "       'carbohydrates_g', 'fat_g', 'protein_g', 'sugar_g', 'saturate_g',\n",
       "       'size_g', 'Servings', 'calories_kCal', 'category', 'image_link',\n",
       "       'fat_100g', 'fiber_100g', 'sugar_100g', 'saturated_100g',\n",
       "       'protein_100g', 'sodium_100mg', 'carbohydrates_100g', 'kj_100g',\n",
       "       'Nutri_score', 'Fsa_new', 'salt_100g', 'salt_g', 'fat_count',\n",
       "       'satfat_count', 'sugar_count', 'salt_count', 'NumberRatings'],\n",
       "      dtype='object')"
      ]
     },
     "execution_count": 122,
     "metadata": {},
     "output_type": "execute_result"
    }
   ],
   "source": [
    "final_healthy.columns"
   ]
  },
  {
   "cell_type": "code",
   "execution_count": 123,
   "id": "164f3884-80c3-4781-9a5a-16717ad1fe21",
   "metadata": {},
   "outputs": [],
   "source": [
    "final_healthy = final_healthy.rename(columns={'recipeid':'id'})\n",
    "final_unhealthy = final_unhealthy.rename(columns={'recipeid':'id'})"
   ]
  },
  {
   "cell_type": "code",
   "execution_count": 124,
   "id": "c0428793-a178-424d-aee6-455cfa91cd85",
   "metadata": {},
   "outputs": [],
   "source": [
    "final_healthy.drop(columns=['userid','rating'], inplace=True)\n",
    "final_unhealthy.drop(columns=['userid','rating'], inplace=True)"
   ]
  },
  {
   "cell_type": "code",
   "execution_count": 125,
   "id": "304d74a1-bbcd-4d9e-b3d9-373c2b6cb056",
   "metadata": {},
   "outputs": [],
   "source": [
    "final_healthy.to_csv('./Final_recipes/F_V_healthy.csv', index=False, sep=';')\n",
    "final_unhealthy.to_csv('./Final_recipes/F_V_unhealthy.csv', index=False, sep=';')"
   ]
  },
  {
   "cell_type": "markdown",
   "id": "98a11627-7e58-4c24-9ccc-e822d5617b74",
   "metadata": {},
   "source": [
    "- rating matrices for each food category is saved here, `recipe_recommender/rating_matrix`"
   ]
  },
  {
   "cell_type": "markdown",
   "id": "dcedeef7-1ea6-4f88-8f5a-eb7fe2f2c2f5",
   "metadata": {},
   "source": [
    "# Prepare to push to database"
   ]
  },
  {
   "cell_type": "code",
   "execution_count": 320,
   "id": "3298eab7-3e85-47df-9608-bd60ef8c3dae",
   "metadata": {},
   "outputs": [],
   "source": [
    "import pyodbc\n",
    "import psycopg2"
   ]
  },
  {
   "cell_type": "code",
   "execution_count": 321,
   "id": "af69c272-924b-472a-b722-984142eabfc0",
   "metadata": {},
   "outputs": [],
   "source": [
    "conn = psycopg2.connect(\"host=localhost dbname=##### user=### password=###\")\n",
    "cur = conn.cursor()"
   ]
  },
  {
   "cell_type": "code",
   "execution_count": 262,
   "id": "990cc864-408b-4f5e-be18-bf7dabe36eea",
   "metadata": {},
   "outputs": [],
   "source": [
    "import csv \n",
    "\n",
    "with open('./Final_recipes/F_V_healthy.csv') as f:\n",
    "#     reader = csv.reader(f)\n",
    "#     next(reader)\n",
    "    next(f)\n",
    "#     for row in reader:\n",
    "#         cur.execute(\n",
    "#         'INSERT into \"Labels_Nudges_recipes\" Values (%s,%s,%s,%s,%s,%s,%s,%s,%s,%s)',\n",
    "#             row\n",
    "        \n",
    "#         )\n",
    "    cur.copy_from(f, 'HealthyRecipe', sep=';',columns=(\n",
    "                     'id','URL','Name','fiber_g','sodium_g','carbohydrates_g','fat_g','protein_g','sugar_g','saturate_g', 'size_g','Servings',\n",
    "                  'calories_kCal','category','image_link','fat_100g','fiber_100g','sugar_100g','saturated_100g','protien_100g','sodium_100mg',  \n",
    "                  'carbohydrates_100g','kj_100g','Nutri_score','Fsa_new','salt_100g','salt_g','fat_count','satfat_count','sugar_count','salt_count'  \n",
    "                  ))\n",
    "conn.commit()"
   ]
  },
  {
   "cell_type": "code",
   "execution_count": 322,
   "id": "81434bd1-6794-4399-82ca-efb7f91b36bc",
   "metadata": {},
   "outputs": [],
   "source": [
    "import csv \n",
    "\n",
    "with open('./Final_recipes/F_V_unhealthy.csv') as f:\n",
    "#     reader = csv.reader(f)\n",
    "#     next(reader)\n",
    "    next(f)\n",
    "#     for row in reader:\n",
    "#         cur.execute(\n",
    "#         'INSERT into \"Labels_Nudges_recipes\" Values (%s,%s,%s,%s,%s,%s,%s,%s,%s,%s)',\n",
    "#             row\n",
    "        \n",
    "#         )\n",
    "    cur.copy_from(f, 'UnhealthyRecipe', sep=';',columns=(\n",
    "                     'id','URL','Name','fiber_g','sodium_g','carbohydrates_g','fat_g','protein_g','sugar_g','saturate_g', 'size_g','Servings',\n",
    "                  'calories_kCal','category','image_link','fat_100g','fiber_100g','sugar_100g','saturated_100g','protien_100g','sodium_100mg',  \n",
    "                  'carbohydrates_100g','kj_100g','Nutri_score','Fsa_new','salt_100g','salt_g','fat_count','satfat_count','sugar_count','salt_count'  \n",
    "                  ))\n",
    "conn.commit()"
   ]
  },
  {
   "cell_type": "code",
   "execution_count": 323,
   "id": "213ad9cb-6732-4337-a3e9-af4cdac33850",
   "metadata": {},
   "outputs": [],
   "source": [
    "conn.close()"
   ]
  },
  {
   "cell_type": "markdown",
   "id": "8c23d460-bf22-474c-b362-fa9d13f6409f",
   "metadata": {},
   "source": [
    "# New Test"
   ]
  },
  {
   "cell_type": "code",
   "execution_count": 28,
   "id": "fec92509-c81a-42a8-8f21-b997fd0b9604",
   "metadata": {},
   "outputs": [],
   "source": [
    "import pandas as pd"
   ]
  },
  {
   "cell_type": "code",
   "execution_count": 131,
   "id": "ac27c6cf-b2e7-48a3-acd7-d1559628920a",
   "metadata": {},
   "outputs": [],
   "source": [
    "h = pd.read_csv('./Final_recipes/F_V_healthy.csv', sep=';')\n",
    "uh = pd.read_csv('./Final_recipes/F_V_unhealthy.csv', sep=';')"
   ]
  },
  {
   "cell_type": "markdown",
   "id": "1e04d8f4-1911-48e4-ac34-f32ccfbcd55b",
   "metadata": {},
   "source": [
    "## compute new Fsa-score"
   ]
  },
  {
   "cell_type": "code",
   "execution_count": 81,
   "id": "e8c9f2cc-77fd-451a-b647-f65c39ba44d3",
   "metadata": {},
   "outputs": [],
   "source": [
    "def fsa_score(final_recipes):\n",
    "    for i in final_recipes.index:\n",
    "        fat_count = satfat_count = sugar_count = salt_count = 2\n",
    "        if final_recipes.at[i,'fat_100g'] <= 3:\n",
    "            fat_count = 1\n",
    "        if final_recipes.at[i, 'fat_g'] > 21 or final_recipes.at[i, 'fat_100g'] > 17.5: # here the mistake :) > 17.5\n",
    "            fat_count = 3\n",
    "        if final_recipes.at[i,'saturated_100g'] <= 1.5:\n",
    "            satfat_count = 1\n",
    "        if final_recipes.at[i, 'saturate_g'] > 6 or final_recipes.at[i,'saturated_100g'] > 5:\n",
    "            satfat_count = 3\n",
    "        if final_recipes.at[i, 'sugar_100g'] <= 5:\n",
    "            sugar_count = 1\n",
    "        if final_recipes.at[i, 'sugar_100g'] > 22.5 or final_recipes.at[i, 'sugar_g'] > 27:\n",
    "            sugar_count = 3\n",
    "        if final_recipes.at[i, 'salt_100g'] <= 0.3:\n",
    "            salt_count = 1\n",
    "        if final_recipes.at[i, 'salt_100g'] > 1.5 or final_recipes.at[i, 'salt_g']> 1.8:\n",
    "            salt_count = 3 \n",
    "        final_recipes.at[i,'Fsa_new'] = fat_count + satfat_count + sugar_count + salt_count\n",
    "        final_recipes.at[i, 'fat_count'] = fat_count\n",
    "        final_recipes.at[i, 'satfat_count'] = satfat_count\n",
    "        final_recipes.at[i, 'sugar_count'] = sugar_count\n",
    "        final_recipes.at[i, 'salt_count'] = salt_count"
   ]
  },
  {
   "cell_type": "markdown",
   "id": "69bfc6e8-3906-4efa-92cb-d723c6994a1b",
   "metadata": {},
   "source": [
    "# compute new Nutri_score"
   ]
  },
  {
   "cell_type": "code",
   "execution_count": 189,
   "id": "b7695ba2-a865-4c58-b9a2-ef85faa04965",
   "metadata": {},
   "outputs": [
    {
     "data": {
      "text/plain": [
       "A    204\n",
       "B    159\n",
       "C     74\n",
       "D     20\n",
       "Name: Nutri_score, dtype: int64"
      ]
     },
     "execution_count": 189,
     "metadata": {},
     "output_type": "execute_result"
    }
   ],
   "source": [
    "h.Nutri_score.value_counts()"
   ]
  },
  {
   "cell_type": "code",
   "execution_count": 190,
   "id": "36919ba5-05d9-427b-a36f-0b549245bc04",
   "metadata": {},
   "outputs": [
    {
     "data": {
      "text/plain": [
       "C    225\n",
       "D    151\n",
       "B    119\n",
       "A     30\n",
       "E     10\n",
       "Name: Nutri_score, dtype: int64"
      ]
     },
     "execution_count": 190,
     "metadata": {},
     "output_type": "execute_result"
    }
   ],
   "source": [
    "uh.Nutri_score.value_counts()"
   ]
  },
  {
   "cell_type": "code",
   "execution_count": 215,
   "id": "b43da41f-7df2-4479-8d25-62f7632d7a91",
   "metadata": {},
   "outputs": [
    {
     "data": {
      "text/plain": [
       "535"
      ]
     },
     "execution_count": 215,
     "metadata": {},
     "output_type": "execute_result"
    }
   ],
   "source": [
    "len(uh)"
   ]
  },
  {
   "cell_type": "code",
   "execution_count": 217,
   "id": "7efaace3-9399-4e6a-9403-52c735f455da",
   "metadata": {},
   "outputs": [
    {
     "data": {
      "text/plain": [
       "662"
      ]
     },
     "execution_count": 217,
     "metadata": {},
     "output_type": "execute_result"
    }
   ],
   "source": [
    "Correct_un_nutri = pd.read_csv('./Correct_nutri_fsa.csv', ';')\n",
    "len(Correct_un_nutri)"
   ]
  },
  {
   "cell_type": "markdown",
   "id": "60bae10b-3921-4a8f-88cd-4b289a548dd5",
   "metadata": {},
   "source": [
    "# Based on French excel (Alain)"
   ]
  },
  {
   "cell_type": "code",
   "execution_count": 311,
   "id": "0aa9b12d-d046-4310-b1a9-849f2aca3ec8",
   "metadata": {},
   "outputs": [
    {
     "data": {
      "text/plain": [
       "Nutriscore_C    268\n",
       "Nutriscore_D    198\n",
       "Nutriscore_B    168\n",
       "Nutriscore_A     18\n",
       "Nutriscore_E     10\n",
       "Name: Nutri-Score, dtype: int64"
      ]
     },
     "execution_count": 311,
     "metadata": {},
     "output_type": "execute_result"
    }
   ],
   "source": [
    "Correct_un_nutri['Nutri-Score'].value_counts()"
   ]
  },
  {
   "cell_type": "markdown",
   "id": "c6b6a5d1-0098-4462-b275-14991db9c2e6",
   "metadata": {},
   "source": [
    "# based on my script (consediring if N_point >= 11)"
   ]
  },
  {
   "cell_type": "code",
   "execution_count": 312,
   "id": "4bba2a16-3679-48be-9749-82f6ab1fb3c1",
   "metadata": {},
   "outputs": [
    {
     "data": {
      "text/plain": [
       "C    225\n",
       "D    151\n",
       "B    119\n",
       "A     30\n",
       "E     10\n",
       "Name: Nutri_score, dtype: int64"
      ]
     },
     "execution_count": 312,
     "metadata": {},
     "output_type": "execute_result"
    }
   ],
   "source": [
    "uh.Nutri_score.value_counts()"
   ]
  },
  {
   "cell_type": "code",
   "execution_count": 313,
   "id": "b4bd205e-c30c-4e98-a100-ffe1fe74a9c9",
   "metadata": {},
   "outputs": [],
   "source": [
    "for i in uh.index:\n",
    "    uh.at[i, 'Nutri_score'] = \"Nutriscore_\" + uh.at[i, 'Nutri_score']"
   ]
  },
  {
   "cell_type": "code",
   "execution_count": 314,
   "id": "42f7646f-1c40-4761-9140-ff4c6b2b1713",
   "metadata": {},
   "outputs": [
    {
     "data": {
      "text/plain": [
       "67"
      ]
     },
     "execution_count": 314,
     "metadata": {},
     "output_type": "execute_result"
    }
   ],
   "source": [
    "mg = uh.merge(Correct_un_nutri, left_on='Name',right_on='Product')#[['Name','Nutri_score','Product' ,'Nutri-Score']]\n",
    "len(mg[mg.Nutri_score != mg['Nutri-Score']])"
   ]
  },
  {
   "cell_type": "code",
   "execution_count": 315,
   "id": "d3a0ccba-4d8f-4da5-b390-7d5ce09baaf9",
   "metadata": {},
   "outputs": [],
   "source": [
    "for i in mg.index:\n",
    "    if  mg.at[i,'Nutri_score'] != mg.at[i,'Nutri-Score']:\n",
    "        mg.at[i,'Nutri_score'] = mg.at[i,'Nutri-Score']"
   ]
  },
  {
   "cell_type": "code",
   "execution_count": 316,
   "id": "43ec763b-dea9-4b2a-8041-640fc3ee7f00",
   "metadata": {},
   "outputs": [],
   "source": [
    "mg = mg[uh.columns.to_list()]"
   ]
  },
  {
   "cell_type": "code",
   "execution_count": 317,
   "id": "85c5d04a-2a5c-48db-a7dc-5327a0c81a4a",
   "metadata": {},
   "outputs": [],
   "source": [
    "for i in mg.index:\n",
    "    mg.at[i,'Nutri_score'] = mg.at[i,'Nutri_score'].replace('Nutriscore_','')"
   ]
  },
  {
   "cell_type": "code",
   "execution_count": 318,
   "id": "7ed04a77-16a5-47ba-ab8b-187343875128",
   "metadata": {},
   "outputs": [],
   "source": [
    "mg.to_csv('./Final_recipes/F_V_unhealthy.csv', index=False, sep=';')"
   ]
  },
  {
   "cell_type": "code",
   "execution_count": 319,
   "id": "907a1635-156e-451e-a9ce-4f51f16ab53a",
   "metadata": {},
   "outputs": [
    {
     "data": {
      "text/plain": [
       "Index(['id', 'URL', 'Name', 'fiber_g', 'sodium_g', 'carbohydrates_g', 'fat_g',\n",
       "       'protein_g', 'sugar_g', 'saturate_g', 'size_g', 'Servings',\n",
       "       'calories_kCal', 'category', 'image_link', 'fat_100g', 'fiber_100g',\n",
       "       'sugar_100g', 'saturated_100g', 'protein_100g', 'sodium_100mg',\n",
       "       'carbohydrates_100g', 'kj_100g', 'Nutri_score', 'Fsa_new', 'salt_100g',\n",
       "       'salt_g', 'fat_count', 'satfat_count', 'sugar_count', 'salt_count'],\n",
       "      dtype='object')"
      ]
     },
     "execution_count": 319,
     "metadata": {},
     "output_type": "execute_result"
    }
   ],
   "source": [
    "mg.columns"
   ]
  },
  {
   "cell_type": "code",
   "execution_count": 275,
   "id": "fd2bac02-bc95-4940-bb13-e086c414c9d7",
   "metadata": {},
   "outputs": [
    {
     "data": {
      "text/plain": [
       "C    225\n",
       "D    177\n",
       "B    110\n",
       "A     13\n",
       "E     10\n",
       "Name: Nutri_score, dtype: int64"
      ]
     },
     "execution_count": 275,
     "metadata": {},
     "output_type": "execute_result"
    }
   ],
   "source": [
    "mg.Nutri_score.value_counts()"
   ]
  },
  {
   "cell_type": "code",
   "execution_count": 127,
   "id": "5ce3e671-c3ec-44b1-8d0a-9d132a47e9c3",
   "metadata": {},
   "outputs": [
    {
     "data": {
      "text/plain": [
       "457"
      ]
     },
     "execution_count": 127,
     "metadata": {},
     "output_type": "execute_result"
    }
   ],
   "source": [
    "len(h)"
   ]
  },
  {
   "cell_type": "code",
   "execution_count": 129,
   "id": "6d619f8b-5dc9-4ec8-bb4e-ef4e1c02a273",
   "metadata": {},
   "outputs": [
    {
     "data": {
      "text/plain": [
       "535"
      ]
     },
     "execution_count": 129,
     "metadata": {},
     "output_type": "execute_result"
    }
   ],
   "source": [
    "len(uh)"
   ]
  },
  {
   "cell_type": "code",
   "execution_count": 132,
   "id": "f68e8e98-985c-4ef4-8d5c-b442f9686cea",
   "metadata": {},
   "outputs": [
    {
     "data": {
      "text/plain": [
       "Index(['id', 'URL', 'Name', 'fiber_g', 'sodium_g', 'carbohydrates_g', 'fat_g',\n",
       "       'protein_g', 'sugar_g', 'saturate_g', 'size_g', 'Servings',\n",
       "       'calories_kCal', 'category', 'image_link', 'fat_100g', 'fiber_100g',\n",
       "       'sugar_100g', 'saturated_100g', 'protein_100g', 'sodium_100mg',\n",
       "       'carbohydrates_100g', 'kj_100g', 'Nutri_score', 'Fsa_new', 'salt_100g',\n",
       "       'salt_g', 'fat_count', 'satfat_count', 'sugar_count', 'salt_count',\n",
       "       'NumberRatings'],\n",
       "      dtype='object')"
      ]
     },
     "execution_count": 132,
     "metadata": {},
     "output_type": "execute_result"
    }
   ],
   "source": [
    "h.columns"
   ]
  },
  {
   "cell_type": "code",
   "execution_count": 144,
   "id": "638b7b06-c05f-4d05-b532-7a5fc572d75b",
   "metadata": {},
   "outputs": [
    {
     "data": {
      "text/plain": [
       "[1986, 1293, 1217, 1129, 1094, 836, 823, 731, 707, 674]"
      ]
     },
     "execution_count": 144,
     "metadata": {},
     "output_type": "execute_result"
    }
   ],
   "source": [
    "sorted(h['NumberRatings'], reverse=True)[:10]"
   ]
  },
  {
   "cell_type": "code",
   "execution_count": 145,
   "id": "cf298add-8310-4a10-ad5d-fdd0874250ab",
   "metadata": {},
   "outputs": [
    {
     "data": {
      "text/plain": [
       "[2399, 1995, 1889, 1712, 1410, 1152, 1047, 908, 885, 858]"
      ]
     },
     "execution_count": 145,
     "metadata": {},
     "output_type": "execute_result"
    }
   ],
   "source": [
    "sorted(uh['NumberRatings'], reverse=True)[:10]"
   ]
  },
  {
   "cell_type": "code",
   "execution_count": 152,
   "id": "3aeceaa8-ce32-42ea-82e2-0e534b3644f4",
   "metadata": {},
   "outputs": [
    {
     "data": {
      "text/html": [
       "<div>\n",
       "<style scoped>\n",
       "    .dataframe tbody tr th:only-of-type {\n",
       "        vertical-align: middle;\n",
       "    }\n",
       "\n",
       "    .dataframe tbody tr th {\n",
       "        vertical-align: top;\n",
       "    }\n",
       "\n",
       "    .dataframe thead th {\n",
       "        text-align: right;\n",
       "    }\n",
       "</style>\n",
       "<table border=\"1\" class=\"dataframe\">\n",
       "  <thead>\n",
       "    <tr style=\"text-align: right;\">\n",
       "      <th></th>\n",
       "      <th>id</th>\n",
       "      <th>NumberRatings</th>\n",
       "    </tr>\n",
       "  </thead>\n",
       "  <tbody>\n",
       "    <tr>\n",
       "      <th>442</th>\n",
       "      <td>58</td>\n",
       "      <td>1986</td>\n",
       "    </tr>\n",
       "    <tr>\n",
       "      <th>326</th>\n",
       "      <td>41</td>\n",
       "      <td>1293</td>\n",
       "    </tr>\n",
       "    <tr>\n",
       "      <th>299</th>\n",
       "      <td>134</td>\n",
       "      <td>1217</td>\n",
       "    </tr>\n",
       "    <tr>\n",
       "      <th>286</th>\n",
       "      <td>160</td>\n",
       "      <td>1129</td>\n",
       "    </tr>\n",
       "    <tr>\n",
       "      <th>333</th>\n",
       "      <td>200</td>\n",
       "      <td>1094</td>\n",
       "    </tr>\n",
       "    <tr>\n",
       "      <th>355</th>\n",
       "      <td>454</td>\n",
       "      <td>836</td>\n",
       "    </tr>\n",
       "    <tr>\n",
       "      <th>272</th>\n",
       "      <td>652</td>\n",
       "      <td>823</td>\n",
       "    </tr>\n",
       "    <tr>\n",
       "      <th>456</th>\n",
       "      <td>34</td>\n",
       "      <td>731</td>\n",
       "    </tr>\n",
       "    <tr>\n",
       "      <th>396</th>\n",
       "      <td>1136</td>\n",
       "      <td>707</td>\n",
       "    </tr>\n",
       "    <tr>\n",
       "      <th>81</th>\n",
       "      <td>761</td>\n",
       "      <td>674</td>\n",
       "    </tr>\n",
       "  </tbody>\n",
       "</table>\n",
       "</div>"
      ],
      "text/plain": [
       "       id  NumberRatings\n",
       "442    58           1986\n",
       "326    41           1293\n",
       "299   134           1217\n",
       "286   160           1129\n",
       "333   200           1094\n",
       "355   454            836\n",
       "272   652            823\n",
       "456    34            731\n",
       "396  1136            707\n",
       "81    761            674"
      ]
     },
     "execution_count": 152,
     "metadata": {},
     "output_type": "execute_result"
    }
   ],
   "source": [
    "h[[\n",
    "    'id',\n",
    "    'NumberRatings'\n",
    "]].sort_values(by=['NumberRatings'], ascending=False)[:10]"
   ]
  },
  {
   "cell_type": "markdown",
   "id": "32d03796",
   "metadata": {},
   "source": [
    "### Data description for the paper\n"
   ]
  },
  {
   "cell_type": "code",
   "execution_count": 184,
   "id": "690ea980-fb2d-444c-baec-de035def8bd8",
   "metadata": {},
   "outputs": [],
   "source": [
    "## Read healthy recipes \n",
    "\n",
    "h_recipes = pd.read_csv('./Final_recipes/F_V_healthy.csv')\n",
    "h_recipes['Healthiness'] = 'healthy'\n",
    "## Read unhealthy recipes\n",
    "unh_recipes = pd.read_csv('./Final_recipes/F_V_unhealthy.csv')\n",
    "unh_recipes['Healthiness'] = 'unhealthy'\n",
    "\n",
    "\n",
    "# concat all \n",
    "all_data = pd.concat([h_recipes, unh_recipes], 0)"
   ]
  },
  {
   "cell_type": "code",
   "execution_count": 368,
   "id": "f38f906b",
   "metadata": {},
   "outputs": [],
   "source": [
    "### Plot distribution\n",
    "def plt_data(data, title, x,y,pallete,hue=None, ax=None, legend = None):\n",
    "    plt.figure(figsize=(7, 7))\n",
    "    sns.set(font_scale = 2)\n",
    "    widths = 2\n",
    "    #sns.set_style(\"darkgrid\", {\"grid.color\": \".6\", \"grid.linestyle\": \":\"})\n",
    "    splot = sns.barplot(data = data, x = x, y =y, palette =pallete,dodge=False, hue=hue ,ax=ax)\n",
    "                        #palette = \"colorblind\")\n",
    "    # if legend:\n",
    "        # splot.get_legend.remove()\n",
    "    if title != 'All':\n",
    "        for p in splot.patches:\n",
    "                splot.annotate(format(p.get_height(), '.0f'), \n",
    "                           (p.get_x() + p.get_width() / 2., p.get_height()), \n",
    "                           ha = 'center', va = 'center', \n",
    "                           xytext = (0, 9), \n",
    "                           textcoords = 'offset points', fontsize=14)\n",
    "    plt.xticks(rotation = 8)\n",
    "    splot.set_xticklabels(splot.get_xticklabels(),rotation = 0)\n",
    "    plt.savefig('./'+title+\"_.eps\", bbox_inches='tight', dpi=300)"
   ]
  },
  {
   "cell_type": "code",
   "execution_count": 369,
   "id": "8617b8dd",
   "metadata": {},
   "outputs": [],
   "source": [
    "def prepare_Df(data,column, ctitle, f=None):\n",
    "    data_dist = data.value_counts().sort_index()\n",
    "    data_freq = data.value_counts(normalize=True).sort_index()\n",
    "    \n",
    "    data_dist = pd.DataFrame(data_dist).reset_index()\n",
    "    data_dist.columns = [column,'Count']\n",
    "    data_dist['freq'] = data_freq.values\n",
    "    data_dist['Healthiness'] = 'healthy'\n",
    "    if f:\n",
    "        data_dist.loc[data_dist['FSA score'] > 8, 'Healthiness'] = 'less healthy'\n",
    "    return data_dist"
   ]
  },
  {
   "cell_type": "code",
   "execution_count": 370,
   "id": "c2677cf4",
   "metadata": {},
   "outputs": [
    {
     "data": {
      "text/html": [
       "<div>\n",
       "<style scoped>\n",
       "    .dataframe tbody tr th:only-of-type {\n",
       "        vertical-align: middle;\n",
       "    }\n",
       "\n",
       "    .dataframe tbody tr th {\n",
       "        vertical-align: top;\n",
       "    }\n",
       "\n",
       "    .dataframe thead th {\n",
       "        text-align: right;\n",
       "    }\n",
       "</style>\n",
       "<table border=\"1\" class=\"dataframe\">\n",
       "  <thead>\n",
       "    <tr style=\"text-align: right;\">\n",
       "      <th></th>\n",
       "      <th>FSA score</th>\n",
       "      <th>Count</th>\n",
       "      <th>freq</th>\n",
       "      <th>Healthiness</th>\n",
       "    </tr>\n",
       "  </thead>\n",
       "  <tbody>\n",
       "    <tr>\n",
       "      <th>0</th>\n",
       "      <td>4</td>\n",
       "      <td>4</td>\n",
       "      <td>0.004036</td>\n",
       "      <td>healthy</td>\n",
       "    </tr>\n",
       "    <tr>\n",
       "      <th>1</th>\n",
       "      <td>5</td>\n",
       "      <td>43</td>\n",
       "      <td>0.043391</td>\n",
       "      <td>healthy</td>\n",
       "    </tr>\n",
       "    <tr>\n",
       "      <th>2</th>\n",
       "      <td>6</td>\n",
       "      <td>102</td>\n",
       "      <td>0.102926</td>\n",
       "      <td>healthy</td>\n",
       "    </tr>\n",
       "    <tr>\n",
       "      <th>3</th>\n",
       "      <td>7</td>\n",
       "      <td>150</td>\n",
       "      <td>0.151362</td>\n",
       "      <td>healthy</td>\n",
       "    </tr>\n",
       "    <tr>\n",
       "      <th>4</th>\n",
       "      <td>8</td>\n",
       "      <td>158</td>\n",
       "      <td>0.159435</td>\n",
       "      <td>healthy</td>\n",
       "    </tr>\n",
       "    <tr>\n",
       "      <th>5</th>\n",
       "      <td>9</td>\n",
       "      <td>199</td>\n",
       "      <td>0.200807</td>\n",
       "      <td>less healthy</td>\n",
       "    </tr>\n",
       "    <tr>\n",
       "      <th>6</th>\n",
       "      <td>10</td>\n",
       "      <td>295</td>\n",
       "      <td>0.297679</td>\n",
       "      <td>less healthy</td>\n",
       "    </tr>\n",
       "    <tr>\n",
       "      <th>7</th>\n",
       "      <td>11</td>\n",
       "      <td>24</td>\n",
       "      <td>0.024218</td>\n",
       "      <td>less healthy</td>\n",
       "    </tr>\n",
       "    <tr>\n",
       "      <th>8</th>\n",
       "      <td>12</td>\n",
       "      <td>16</td>\n",
       "      <td>0.016145</td>\n",
       "      <td>less healthy</td>\n",
       "    </tr>\n",
       "  </tbody>\n",
       "</table>\n",
       "</div>"
      ],
      "text/plain": [
       "   FSA score  Count      freq   Healthiness\n",
       "0          4      4  0.004036       healthy\n",
       "1          5     43  0.043391       healthy\n",
       "2          6    102  0.102926       healthy\n",
       "3          7    150  0.151362       healthy\n",
       "4          8    158  0.159435       healthy\n",
       "5          9    199  0.200807  less healthy\n",
       "6         10    295  0.297679  less healthy\n",
       "7         11     24  0.024218  less healthy\n",
       "8         12     16  0.016145  less healthy"
      ]
     },
     "execution_count": 370,
     "metadata": {},
     "output_type": "execute_result"
    }
   ],
   "source": [
    "## Fsa score distribution\n",
    "\n",
    "fsa_dist = prepare_Df(all_data.Fsa_new, 'FSA score','FSA distribution', 'f')\n",
    "fsa_dist"
   ]
  },
  {
   "cell_type": "code",
   "execution_count": 371,
   "id": "930b6e4b",
   "metadata": {},
   "outputs": [
    {
     "name": "stderr",
     "output_type": "stream",
     "text": [
      "The PostScript backend does not support transparency; partially transparent artists will be rendered opaque.\n",
      "The PostScript backend does not support transparency; partially transparent artists will be rendered opaque.\n"
     ]
    },
    {
     "data": {
      "image/png": "[encoded data removed]",
      "text/plain": [
       "<Figure size 504x504 with 1 Axes>"
      ]
     },
     "metadata": {},
     "output_type": "display_data"
    }
   ],
   "source": [
    "plt_data(fsa_dist, 'Fsa_dist','FSA score','Count',(\"#2ecc71\",\"#e74c3c\"),'Healthiness')"
   ]
  },
  {
   "cell_type": "code",
   "execution_count": 372,
   "id": "bf44889d",
   "metadata": {},
   "outputs": [
    {
     "data": {
      "text/html": [
       "<div>\n",
       "<style scoped>\n",
       "    .dataframe tbody tr th:only-of-type {\n",
       "        vertical-align: middle;\n",
       "    }\n",
       "\n",
       "    .dataframe tbody tr th {\n",
       "        vertical-align: top;\n",
       "    }\n",
       "\n",
       "    .dataframe thead th {\n",
       "        text-align: right;\n",
       "    }\n",
       "</style>\n",
       "<table border=\"1\" class=\"dataframe\">\n",
       "  <thead>\n",
       "    <tr style=\"text-align: right;\">\n",
       "      <th></th>\n",
       "      <th>Nutri score</th>\n",
       "      <th>Count</th>\n",
       "      <th>freq</th>\n",
       "      <th>Healthiness</th>\n",
       "    </tr>\n",
       "  </thead>\n",
       "  <tbody>\n",
       "    <tr>\n",
       "      <th>0</th>\n",
       "      <td>A</td>\n",
       "      <td>234</td>\n",
       "      <td>0.236125</td>\n",
       "      <td>healthy</td>\n",
       "    </tr>\n",
       "    <tr>\n",
       "      <th>1</th>\n",
       "      <td>B</td>\n",
       "      <td>278</td>\n",
       "      <td>0.280525</td>\n",
       "      <td>healthy</td>\n",
       "    </tr>\n",
       "    <tr>\n",
       "      <th>2</th>\n",
       "      <td>C</td>\n",
       "      <td>298</td>\n",
       "      <td>0.300706</td>\n",
       "      <td>healthy</td>\n",
       "    </tr>\n",
       "    <tr>\n",
       "      <th>3</th>\n",
       "      <td>D</td>\n",
       "      <td>171</td>\n",
       "      <td>0.172553</td>\n",
       "      <td>healthy</td>\n",
       "    </tr>\n",
       "    <tr>\n",
       "      <th>4</th>\n",
       "      <td>E</td>\n",
       "      <td>10</td>\n",
       "      <td>0.010091</td>\n",
       "      <td>healthy</td>\n",
       "    </tr>\n",
       "  </tbody>\n",
       "</table>\n",
       "</div>"
      ],
      "text/plain": [
       "  Nutri score  Count      freq Healthiness\n",
       "0           A    234  0.236125     healthy\n",
       "1           B    278  0.280525     healthy\n",
       "2           C    298  0.300706     healthy\n",
       "3           D    171  0.172553     healthy\n",
       "4           E     10  0.010091     healthy"
      ]
     },
     "execution_count": 372,
     "metadata": {},
     "output_type": "execute_result"
    }
   ],
   "source": [
    "## Plot the NutriScore\n",
    "Nutri_dist = prepare_Df(all_data.Nutri_score, 'Nutri score','Nutri distribution')\n",
    "Nutri_dist"
   ]
  },
  {
   "cell_type": "code",
   "execution_count": 373,
   "id": "2c3d83e5",
   "metadata": {},
   "outputs": [
    {
     "data": {
      "image/png": "[encoded data removed]",
      "text/plain": [
       "<Figure size 504x504 with 1 Axes>"
      ]
     },
     "metadata": {},
     "output_type": "display_data"
    }
   ],
   "source": [
    "\n",
    "plt_data(Nutri_dist, 'Nutri_score','Nutri score','Count',(\"#2ecc71\",\"#8BF541\",\"#F5CE07\",\"#F59007\", \"#F53907\"))"
   ]
  },
  {
   "cell_type": "code",
   "execution_count": 374,
   "id": "2910863a",
   "metadata": {},
   "outputs": [
    {
     "data": {
      "text/html": [
       "<div>\n",
       "<style scoped>\n",
       "    .dataframe tbody tr th:only-of-type {\n",
       "        vertical-align: middle;\n",
       "    }\n",
       "\n",
       "    .dataframe tbody tr th {\n",
       "        vertical-align: top;\n",
       "    }\n",
       "\n",
       "    .dataframe thead th {\n",
       "        text-align: right;\n",
       "    }\n",
       "</style>\n",
       "<table border=\"1\" class=\"dataframe\">\n",
       "  <thead>\n",
       "    <tr style=\"text-align: right;\">\n",
       "      <th></th>\n",
       "      <th>Healthiness</th>\n",
       "      <th>str_condition</th>\n",
       "      <th>Count</th>\n",
       "    </tr>\n",
       "  </thead>\n",
       "  <tbody>\n",
       "    <tr>\n",
       "      <th>0</th>\n",
       "      <td>Healthy</td>\n",
       "      <td>MTL</td>\n",
       "      <td>58</td>\n",
       "    </tr>\n",
       "    <tr>\n",
       "      <th>1</th>\n",
       "      <td>Healthy</td>\n",
       "      <td>No label</td>\n",
       "      <td>61</td>\n",
       "    </tr>\n",
       "    <tr>\n",
       "      <th>2</th>\n",
       "      <td>Healthy</td>\n",
       "      <td>Nutri score</td>\n",
       "      <td>62</td>\n",
       "    </tr>\n",
       "    <tr>\n",
       "      <th>3</th>\n",
       "      <td>Less healthy</td>\n",
       "      <td>MTL</td>\n",
       "      <td>42</td>\n",
       "    </tr>\n",
       "    <tr>\n",
       "      <th>4</th>\n",
       "      <td>Less healthy</td>\n",
       "      <td>No label</td>\n",
       "      <td>39</td>\n",
       "    </tr>\n",
       "    <tr>\n",
       "      <th>5</th>\n",
       "      <td>Less healthy</td>\n",
       "      <td>Nutri score</td>\n",
       "      <td>38</td>\n",
       "    </tr>\n",
       "  </tbody>\n",
       "</table>\n",
       "</div>"
      ],
      "text/plain": [
       "    Healthiness str_condition  Count\n",
       "0       Healthy           MTL     58\n",
       "1       Healthy      No label     61\n",
       "2       Healthy   Nutri score     62\n",
       "3  Less healthy           MTL     42\n",
       "4  Less healthy      No label     39\n",
       "5  Less healthy   Nutri score     38"
      ]
     },
     "execution_count": 374,
     "metadata": {},
     "output_type": "execute_result"
    }
   ],
   "source": [
    "## plot healhiness distribution \n",
    "healthy_dist = pd.read_csv('./healthiness_dist.csv')\n",
    "healthy_dist.rename(columns={'healthiness':'Healthiness'}, inplace=True)\n",
    "healthy_dist"
   ]
  },
  {
   "cell_type": "code",
   "execution_count": 392,
   "id": "948583c0",
   "metadata": {},
   "outputs": [],
   "source": [
    "def plt_healthiness(healthiness, title, hue=None, order=None, ax=None):\n",
    "    plt.figure(figsize=(7, 7))\n",
    "    #sns.set_style(\"darkgrid\", {\"grid.color\": \".6\", \"grid.linestyle\": \":\"})\n",
    "    splot = sns.barplot(data = healthiness, x = 'str_condition', y = 'Count', hue=hue, palette = (\"#2ecc71\",\"#e74c3c\", ), order = order, ax=ax)#, legend = False)\n",
    "    splot.set_xticklabels(splot.get_xticklabels(),rotation = 0)\n",
    "    for p in splot.patches:\n",
    "                print(p)\n",
    "                splot.annotate(format(p.get_height(), '.0f'), \n",
    "                           (p.get_x() + p.get_width() / 2., p.get_height()), \n",
    "                           ha = 'center', va = 'center', \n",
    "                           xytext = (0, 9), \n",
    "                           textcoords = 'offset points', fontsize=14)\n",
    "    plt.legend(bbox_to_anchor=(1.01,0.5), loc=2, borderaxespad=0., title='Healthiness')\n",
    "\n",
    "    # splot.axes.set_title(\"Title\",fontsize=50)\n",
    "    splot.set_xlabel(\"Condition\")#,fontsize=12)\n",
    "    # splot.set_ylabel(\"Count\",fontsize=20)\n",
    "    # splot.tick_params(labelsize=5)\n",
    "    plt.savefig('./'+title+\"_.png\", bbox_inches='tight', dpi=300)"
   ]
  },
  {
   "cell_type": "code",
   "execution_count": 393,
   "id": "822b206a",
   "metadata": {},
   "outputs": [
    {
     "name": "stdout",
     "output_type": "stream",
     "text": [
      "Rectangle(xy=(-0.4, 0), width=0.4, height=61, angle=0)\n",
      "Rectangle(xy=(0.6, 0), width=0.4, height=62, angle=0)\n",
      "Rectangle(xy=(1.6, 0), width=0.4, height=58, angle=0)\n",
      "Rectangle(xy=(-2.77556e-17, 0), width=0.4, height=39, angle=0)\n",
      "Rectangle(xy=(1, 0), width=0.4, height=38, angle=0)\n",
      "Rectangle(xy=(2, 0), width=0.4, height=42, angle=0)\n"
     ]
    },
    {
     "data": {
      "image/png": "[encoded data removed]",
      "text/plain": [
       "<Figure size 504x504 with 1 Axes>"
      ]
     },
     "metadata": {},
     "output_type": "display_data"
    }
   ],
   "source": [
    "plt_healthiness(healthy_dist, 'HealthinessDistribution', hue='Healthiness', order=['No label','Nutri score','MTL'])"
   ]
  },
  {
   "cell_type": "code",
   "execution_count": 470,
   "id": "a7300a2f",
   "metadata": {},
   "outputs": [
    {
     "data": {
      "text/html": [
       "<div>\n",
       "<style scoped>\n",
       "    .dataframe tbody tr th:only-of-type {\n",
       "        vertical-align: middle;\n",
       "    }\n",
       "\n",
       "    .dataframe tbody tr th {\n",
       "        vertical-align: top;\n",
       "    }\n",
       "\n",
       "    .dataframe thead th {\n",
       "        text-align: right;\n",
       "    }\n",
       "</style>\n",
       "<table border=\"1\" class=\"dataframe\">\n",
       "  <thead>\n",
       "    <tr style=\"text-align: right;\">\n",
       "      <th></th>\n",
       "      <th>number_of_dietgoals</th>\n",
       "      <th>str_condition</th>\n",
       "      <th>Count</th>\n",
       "    </tr>\n",
       "  </thead>\n",
       "  <tbody>\n",
       "    <tr>\n",
       "      <th>0</th>\n",
       "      <td>0</td>\n",
       "      <td>MTL</td>\n",
       "      <td>23</td>\n",
       "    </tr>\n",
       "    <tr>\n",
       "      <th>1</th>\n",
       "      <td>0</td>\n",
       "      <td>No label</td>\n",
       "      <td>23</td>\n",
       "    </tr>\n",
       "    <tr>\n",
       "      <th>2</th>\n",
       "      <td>0</td>\n",
       "      <td>Nutri-score</td>\n",
       "      <td>25</td>\n",
       "    </tr>\n",
       "    <tr>\n",
       "      <th>3</th>\n",
       "      <td>1</td>\n",
       "      <td>MTL</td>\n",
       "      <td>28</td>\n",
       "    </tr>\n",
       "    <tr>\n",
       "      <th>4</th>\n",
       "      <td>1</td>\n",
       "      <td>No label</td>\n",
       "      <td>27</td>\n",
       "    </tr>\n",
       "    <tr>\n",
       "      <th>5</th>\n",
       "      <td>1</td>\n",
       "      <td>Nutri-score</td>\n",
       "      <td>33</td>\n",
       "    </tr>\n",
       "    <tr>\n",
       "      <th>6</th>\n",
       "      <td>2</td>\n",
       "      <td>MTL</td>\n",
       "      <td>24</td>\n",
       "    </tr>\n",
       "    <tr>\n",
       "      <th>7</th>\n",
       "      <td>2</td>\n",
       "      <td>No label</td>\n",
       "      <td>14</td>\n",
       "    </tr>\n",
       "    <tr>\n",
       "      <th>8</th>\n",
       "      <td>2</td>\n",
       "      <td>Nutri-score</td>\n",
       "      <td>16</td>\n",
       "    </tr>\n",
       "    <tr>\n",
       "      <th>9</th>\n",
       "      <td>3</td>\n",
       "      <td>MTL</td>\n",
       "      <td>17</td>\n",
       "    </tr>\n",
       "    <tr>\n",
       "      <th>10</th>\n",
       "      <td>3</td>\n",
       "      <td>No label</td>\n",
       "      <td>22</td>\n",
       "    </tr>\n",
       "    <tr>\n",
       "      <th>11</th>\n",
       "      <td>3</td>\n",
       "      <td>Nutri-score</td>\n",
       "      <td>11</td>\n",
       "    </tr>\n",
       "    <tr>\n",
       "      <th>12</th>\n",
       "      <td>4</td>\n",
       "      <td>MTL</td>\n",
       "      <td>7</td>\n",
       "    </tr>\n",
       "    <tr>\n",
       "      <th>13</th>\n",
       "      <td>4</td>\n",
       "      <td>No label</td>\n",
       "      <td>9</td>\n",
       "    </tr>\n",
       "    <tr>\n",
       "      <th>14</th>\n",
       "      <td>4</td>\n",
       "      <td>Nutri-score</td>\n",
       "      <td>10</td>\n",
       "    </tr>\n",
       "    <tr>\n",
       "      <th>15</th>\n",
       "      <td>5</td>\n",
       "      <td>MTL</td>\n",
       "      <td>1</td>\n",
       "    </tr>\n",
       "    <tr>\n",
       "      <th>16</th>\n",
       "      <td>5</td>\n",
       "      <td>No label</td>\n",
       "      <td>4</td>\n",
       "    </tr>\n",
       "    <tr>\n",
       "      <th>17</th>\n",
       "      <td>5</td>\n",
       "      <td>Nutri-score</td>\n",
       "      <td>3</td>\n",
       "    </tr>\n",
       "    <tr>\n",
       "      <th>18</th>\n",
       "      <td>6</td>\n",
       "      <td>No label</td>\n",
       "      <td>1</td>\n",
       "    </tr>\n",
       "    <tr>\n",
       "      <th>19</th>\n",
       "      <td>6</td>\n",
       "      <td>Nutri-score</td>\n",
       "      <td>2</td>\n",
       "    </tr>\n",
       "  </tbody>\n",
       "</table>\n",
       "</div>"
      ],
      "text/plain": [
       "    number_of_dietgoals str_condition  Count\n",
       "0                     0           MTL     23\n",
       "1                     0      No label     23\n",
       "2                     0   Nutri-score     25\n",
       "3                     1           MTL     28\n",
       "4                     1      No label     27\n",
       "5                     1   Nutri-score     33\n",
       "6                     2           MTL     24\n",
       "7                     2      No label     14\n",
       "8                     2   Nutri-score     16\n",
       "9                     3           MTL     17\n",
       "10                    3      No label     22\n",
       "11                    3   Nutri-score     11\n",
       "12                    4           MTL      7\n",
       "13                    4      No label      9\n",
       "14                    4   Nutri-score     10\n",
       "15                    5           MTL      1\n",
       "16                    5      No label      4\n",
       "17                    5   Nutri-score      3\n",
       "18                    6      No label      1\n",
       "19                    6   Nutri-score      2"
      ]
     },
     "execution_count": 470,
     "metadata": {},
     "output_type": "execute_result"
    }
   ],
   "source": [
    "goal_dist"
   ]
  },
  {
   "cell_type": "code",
   "execution_count": 474,
   "id": "c9d56e15",
   "metadata": {},
   "outputs": [],
   "source": [
    "## Plot goals per condition\n",
    "goal_dist = pd.read_csv('./goals_dist.csv')\n",
    "# plot goal distribution\n",
    "goal_dist['max'] = [0,0,25,0,0,33,24,0,0,22,0,0,0,10,0,4,0,3,0,0]\n",
    "\n",
    "def plt_goals(goals, title, hue=None, hue_order=None, order=None, ax=None):\n",
    "    plt.subplots(figsize=(7,7))\n",
    "    sns.set_style(\"darkgrid\")#, {\"grid.color\": \".6\", \"grid.linestyle\": \":\"})\n",
    "    splot = sns.barplot(data = goals, x = 'number_of_dietgoals', y = 'Count', hue=hue,  palette = (\"#e74c3c\", \"#34495e\", \"#2ecc71\"), capsize=.2 ,hue_order=hue_order,order = order, ax=ax)\n",
    "    splot.set_xticklabels(splot.get_xticklabels(),rotation = 0)\n",
    "    \n",
    "    splot.set_xlabel(\"number of diet goals\")#,fontsize=12)\n",
    "    splot.set(ylim=(0, 40))\n",
    "    #splot.legend_.remove()\n",
    "    plt.legend(bbox_to_anchor=(1.01,0.5), loc=2, borderaxespad=0., title='Labels')\n",
    "\n",
    "    plt.savefig('./'+title+\"_.png\", bbox_inches='tight', dpi=300)"
   ]
  },
  {
   "cell_type": "code",
   "execution_count": 475,
   "id": "e3ae36cc",
   "metadata": {},
   "outputs": [
    {
     "data": {
      "image/png": "[encoded data removed]",
      "text/plain": [
       "<Figure size 504x504 with 1 Axes>"
      ]
     },
     "metadata": {},
     "output_type": "display_data"
    }
   ],
   "source": [
    "plt_goals(goal_dist, 'goals_condition', 'str_condition', hue_order=['No label','Nutri-score','MTL'])"
   ]
  },
  {
   "cell_type": "code",
   "execution_count": 498,
   "id": "30ab0903",
   "metadata": {},
   "outputs": [
    {
     "data": {
      "text/html": [
       "<div>\n",
       "<style scoped>\n",
       "    .dataframe tbody tr th:only-of-type {\n",
       "        vertical-align: middle;\n",
       "    }\n",
       "\n",
       "    .dataframe tbody tr th {\n",
       "        vertical-align: top;\n",
       "    }\n",
       "\n",
       "    .dataframe thead th {\n",
       "        text-align: right;\n",
       "    }\n",
       "</style>\n",
       "<table border=\"1\" class=\"dataframe\">\n",
       "  <thead>\n",
       "    <tr style=\"text-align: right;\">\n",
       "      <th></th>\n",
       "      <th>number_of_dietgoals</th>\n",
       "      <th>avgfsa</th>\n",
       "    </tr>\n",
       "  </thead>\n",
       "  <tbody>\n",
       "    <tr>\n",
       "      <th>0</th>\n",
       "      <td>0</td>\n",
       "      <td>8.619718</td>\n",
       "    </tr>\n",
       "    <tr>\n",
       "      <th>1</th>\n",
       "      <td>1</td>\n",
       "      <td>7.886364</td>\n",
       "    </tr>\n",
       "    <tr>\n",
       "      <th>2</th>\n",
       "      <td>2</td>\n",
       "      <td>8.537037</td>\n",
       "    </tr>\n",
       "    <tr>\n",
       "      <th>3</th>\n",
       "      <td>3</td>\n",
       "      <td>8.620000</td>\n",
       "    </tr>\n",
       "    <tr>\n",
       "      <th>4</th>\n",
       "      <td>4</td>\n",
       "      <td>8.423077</td>\n",
       "    </tr>\n",
       "    <tr>\n",
       "      <th>5</th>\n",
       "      <td>5</td>\n",
       "      <td>8.375000</td>\n",
       "    </tr>\n",
       "    <tr>\n",
       "      <th>6</th>\n",
       "      <td>6</td>\n",
       "      <td>7.333333</td>\n",
       "    </tr>\n",
       "  </tbody>\n",
       "</table>\n",
       "</div>"
      ],
      "text/plain": [
       "   number_of_dietgoals    avgfsa\n",
       "0                    0  8.619718\n",
       "1                    1  7.886364\n",
       "2                    2  8.537037\n",
       "3                    3  8.620000\n",
       "4                    4  8.423077\n",
       "5                    5  8.375000\n",
       "6                    6  7.333333"
      ]
     },
     "execution_count": 498,
     "metadata": {},
     "output_type": "execute_result"
    }
   ],
   "source": [
    "## Fsa per goals\n",
    "all_goalS = pd.read_csv('./ayoub_data_goals.csv')\n",
    "fsa_per_goals = all_goalS.groupby('number_of_dietgoals')['fsa_score'].mean().reset_index(name='avgfsa')\n",
    "fsa_per_goals"
   ]
  },
  {
   "cell_type": "code",
   "execution_count": 529,
   "id": "e2891d3d",
   "metadata": {},
   "outputs": [
    {
     "data": {
      "text/plain": [
       "<AxesSubplot:xlabel='number_of_dietgoals', ylabel='avgfsa'>"
      ]
     },
     "execution_count": 529,
     "metadata": {},
     "output_type": "execute_result"
    },
    {
     "data": {
      "image/png": "[encoded data removed]",
      "text/plain": [
       "<Figure size 432x288 with 1 Axes>"
      ]
     },
     "metadata": {},
     "output_type": "display_data"
    }
   ],
   "source": [
    "sns.lineplot(data = fsa_per_goals, x='number_of_dietgoals',y='avgfsa', marker=\"o\", dashes=True, linestyle='--', linewidth = 3, color = 'red')\n",
    "#sns.scatterplot(x = 'number_of_dietgoals', y = 'avgfsa', size = 'avgfsa', data = fsa_per_goals, color = 'red').legend_.remove()"
   ]
  },
  {
   "cell_type": "code",
   "execution_count": 556,
   "id": "098563ef",
   "metadata": {},
   "outputs": [
    {
     "data": {
      "text/plain": [
       "8.257689458689459"
      ]
     },
     "execution_count": 556,
     "metadata": {},
     "output_type": "execute_result"
    }
   ],
   "source": [
    "Avg_muliple_goals = fsa_per_goals.loc[fsa_per_goals.number_of_dietgoals > 1]['avgfsa']\n",
    "Avg_muliple_goals.mean()"
   ]
  },
  {
   "cell_type": "code",
   "execution_count": 535,
   "id": "2a0cb0c3",
   "metadata": {},
   "outputs": [],
   "source": [
    "## Plot goals per condition\n",
    "# plot goal distribution\n",
    "goal_dist['max'] = [0,0,25,0,0,33,24,0,0,22,0,0,0,10,0,4,0,3,0,0]\n",
    "\n",
    "def plt_goals_both(goals, title, hue=None, hue_order=None, order=None, ax=None):\n",
    "    fig, ax1 = plt.subplots(figsize=(10,6))\n",
    "    #plt.subplots(figsize=(7,7))\n",
    "    sns.set_style(\"darkgrid\")#, {\"grid.color\": \".6\", \"grid.linestyle\": \":\"})\n",
    "    #splot = \n",
    "    ax2 = sns.barplot(data = goals, x = 'number_of_dietgoals', y = 'Count', hue=hue,  palette = (\"#e74c3c\", \"#34495e\", \"#2ecc71\"), capsize=.2 ,hue_order=hue_order,order = order, ax=ax)\n",
    "    ax2 = ax1.twinx()\n",
    "    #splot.set_xticklabels(splot.get_xticklabels(),rotation = 0)\n",
    "    ax2 = sns.lineplot(data = fsa_per_goals, x='number_of_dietgoals',y='avgfsa', marker=\"o\", dashes=True, linestyle='--', linewidth = 3, color = 'red')\n",
    "    # splot.set_xlabel(\"number of diet goals\")#,fontsize=12)\n",
    "    # splot.set(ylim=(0, 40))\n",
    "    ax1.legend_.remove()\n",
    "    #plt.legend(bbox_to_anchor=(1.01,0.5), loc=2, borderaxespad=0., title='Labels')\n",
    "\n",
    "    plt.savefig('./'+title+\"_.png\", bbox_inches='tight', dpi=300)"
   ]
  },
  {
   "cell_type": "code",
   "execution_count": 536,
   "id": "0e203235",
   "metadata": {},
   "outputs": [
    {
     "data": {
      "image/png": "[encoded data removed]",
      "text/plain": [
       "<Figure size 720x432 with 2 Axes>"
      ]
     },
     "metadata": {},
     "output_type": "display_data"
    }
   ],
   "source": [
    "plt_goals_both(goal_dist, 'goals_condition', 'str_condition', hue_order=['No label','Nutri-score','MTL'])"
   ]
  },
  {
   "cell_type": "code",
   "execution_count": 546,
   "id": "e16d533c",
   "metadata": {},
   "outputs": [
    {
     "data": {
      "image/png": "[encoded data removed]",
      "text/plain": [
       "<Figure size 720x432 with 2 Axes>"
      ]
     },
     "metadata": {},
     "output_type": "display_data"
    }
   ],
   "source": [
    "#Create combo chart\n",
    "\n",
    "fig, ax1 = plt.subplots(figsize=(10,6))\n",
    "sns.set_style(\"darkgrid\")\n",
    "#bar plot creation\n",
    "#ax1.set_title('Average Percipitation Percentage by Month', fontsize=16)\n",
    "ax1.set_xlabel('Month', fontsize=16)\n",
    "ax1.set_ylabel('Avg Temp', fontsize=16)\n",
    "ax1 = sns.barplot(data = goal_dist, x = 'number_of_dietgoals', y = 'Count', hue='str_condition',  palette = (\"#e74c3c\", \"#34495e\", \"#2ecc71\"), capsize=.2)# ,hue_order=hue_order,order = order, ax=ax)\n",
    "ax1.tick_params(axis='y')\n",
    "#specify we want to share the same x-axis\n",
    "ax2 = ax1.twinx()\n",
    "ax1.legend_.remove()\n",
    "color = 'tab:red'\n",
    "#line plot creation\n",
    "ax2.set_ylabel('Avg FSA score', fontsize=16)\n",
    "# sns.set_style('white'\n",
    "# )\n",
    "ax2 = sns.lineplot(data = fsa_per_goals, x='number_of_dietgoals',y='avgfsa', marker=\"o\", dashes=True, linestyle='--', linewidth = 3, color = 'red')\n",
    "ax2.tick_params(axis='y', color=color)\n",
    "#show plot\n",
    "plt.show()"
   ]
  },
  {
   "cell_type": "code",
   "execution_count": null,
   "id": "1f86d820",
   "metadata": {},
   "outputs": [],
   "source": []
  },
  {
   "cell_type": "code",
   "execution_count": 408,
   "id": "34dae432",
   "metadata": {},
   "outputs": [
    {
     "data": {
      "text/html": [
       "<div>\n",
       "<style scoped>\n",
       "    .dataframe tbody tr th:only-of-type {\n",
       "        vertical-align: middle;\n",
       "    }\n",
       "\n",
       "    .dataframe tbody tr th {\n",
       "        vertical-align: top;\n",
       "    }\n",
       "\n",
       "    .dataframe thead th {\n",
       "        text-align: right;\n",
       "    }\n",
       "</style>\n",
       "<table border=\"1\" class=\"dataframe\">\n",
       "  <thead>\n",
       "    <tr style=\"text-align: right;\">\n",
       "      <th></th>\n",
       "      <th>diet_goal</th>\n",
       "      <th>Count</th>\n",
       "      <th>freq</th>\n",
       "      <th>condition</th>\n",
       "    </tr>\n",
       "  </thead>\n",
       "  <tbody>\n",
       "    <tr>\n",
       "      <th>0</th>\n",
       "      <td>Eat more fruit</td>\n",
       "      <td>44</td>\n",
       "      <td>21.359223</td>\n",
       "      <td>No label</td>\n",
       "    </tr>\n",
       "    <tr>\n",
       "      <th>1</th>\n",
       "      <td>Eat less sugar</td>\n",
       "      <td>40</td>\n",
       "      <td>21.052632</td>\n",
       "      <td>Nutri</td>\n",
       "    </tr>\n",
       "    <tr>\n",
       "      <th>2</th>\n",
       "      <td>Eat more vegetables</td>\n",
       "      <td>37</td>\n",
       "      <td>17.961165</td>\n",
       "      <td>No label</td>\n",
       "    </tr>\n",
       "    <tr>\n",
       "      <th>3</th>\n",
       "      <td>Eat more protein</td>\n",
       "      <td>36</td>\n",
       "      <td>17.475728</td>\n",
       "      <td>No label</td>\n",
       "    </tr>\n",
       "    <tr>\n",
       "      <th>4</th>\n",
       "      <td>Eat more vegetables</td>\n",
       "      <td>35</td>\n",
       "      <td>19.021739</td>\n",
       "      <td>MTL</td>\n",
       "    </tr>\n",
       "  </tbody>\n",
       "</table>\n",
       "</div>"
      ],
      "text/plain": [
       "             diet_goal  Count       freq condition\n",
       "0       Eat more fruit     44  21.359223  No label\n",
       "1       Eat less sugar     40  21.052632     Nutri\n",
       "2  Eat more vegetables     37  17.961165  No label\n",
       "3     Eat more protein     36  17.475728  No label\n",
       "4  Eat more vegetables     35  19.021739       MTL"
      ]
     },
     "execution_count": 408,
     "metadata": {},
     "output_type": "execute_result"
    }
   ],
   "source": [
    "## Plot goals per condition\n",
    "diet_goals = pd.read_csv('./all_goals.csv')\n",
    "diet_goals.head()"
   ]
  },
  {
   "cell_type": "code",
   "execution_count": 552,
   "id": "cefda0c2",
   "metadata": {},
   "outputs": [],
   "source": [
    "def plt_diet_goal(diet_goal, title, palette,hue=None, order=None):\n",
    "    plt.figure(figsize=(10, 10))\n",
    "    sns.set_style(\"darkgrid\")#, {\"grid.color\": \".6\", \"grid.linestyle\": \":\"})\n",
    "    x = 'Count'\n",
    "    y = 'diet_goal'\n",
    "    if title == 'All':\n",
    "        x,y = y,x\n",
    "    splot = sns.barplot(data = diet_goal, x = x, y = y, hue=hue, palette = (\"#e74c3c\", \"#34495e\", \"#2ecc71\"), order = order)\n",
    "    splot.set(xlabel= 'Diet goals', ylabel = 'Count')\n",
    "    splot.legend_.remove()\n",
    "    if title  == 'All':\n",
    "        splot.set_xticklabels(splot.get_xticklabels(),rotation = 75)\n",
    "    splot.set(ylabel='Count')\n",
    "    plt.savefig('./'+title+\"_diet_goal.png\", bbox_inches='tight', dpi=300)"
   ]
  },
  {
   "cell_type": "code",
   "execution_count": 553,
   "id": "a22bac5c",
   "metadata": {},
   "outputs": [
    {
     "data": {
      "image/png": "[encoded data removed]",
      "text/plain": [
       "<Figure size 720x720 with 1 Axes>"
      ]
     },
     "metadata": {},
     "output_type": "display_data"
    }
   ],
   "source": [
    "order  = ['No goals','Gain weight','Lose weight','Eat less sugar','Eat less salt','Eat more vegetables','Eat more fruit','Eat more protein']\n",
    "plt_diet_goal(diet_goals, 'All','ocean_r','condition', order=order)"
   ]
  },
  {
   "cell_type": "code",
   "execution_count": null,
   "id": "3a9fafe2",
   "metadata": {},
   "outputs": [],
   "source": []
  }
 ],
 "metadata": {
  "kernelspec": {
   "display_name": "Python 3",
   "language": "python",
   "name": "python3"
  },
  "language_info": {
   "codemirror_mode": {
    "name": "ipython",
    "version": 3
   },
   "file_extension": ".py",
   "mimetype": "text/x-python",
   "name": "python",
   "nbconvert_exporter": "python",
   "pygments_lexer": "ipython3",
   "version": "3.8.8"
  },
  "widgets": {
   "application/vnd.jupyter.widget-state+json": {
    "state": {},
    "version_major": 2,
    "version_minor": 0
   }
  }
 },
 "nbformat": 4,
 "nbformat_minor": 5
}
