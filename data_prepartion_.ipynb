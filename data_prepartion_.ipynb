{
 "cells": [
  {
   "cell_type": "markdown",
   "id": "f370f696-b22d-47fe-964e-ade963f9e2d8",
   "metadata": {},
   "source": [
    "# Data Preprocessing\n",
    "\n",
    "__In this notebook, we will go through the steps followed in order to prepare (preprocess) the data required for our application. <br>\n",
    "The data used in this user study is provided by the well-known online recipe website [allrecipes](https://www.allrecipes.com/). <br>\n",
    "The data is meant to use for research purposes. <br>\n",
    "In a nutshell, the steps are :__\n",
    "  1. __Read the csv file of each category and add categpry column to DF__\n",
    "  2. __Extract the recipes that has image, as images will be used in our study__\n",
    "  3. __Compute Fsa and Nutri score for each recipe as main decision factor for healthiness of each recipe__\n",
    "  4. __Split recipies into healthy and unhealthy ones based on Fsa threshold (8)__\n",
    "  5. __Prepare rating matrices for each category, to be usd in recommendation generation phase__\n",
    "  6. __save the data__\n",
    "  7. __Optional: Push the data into Database__<br>\n",
    "For more information about the dataset: __ayoub.majjodi@uib.no__"
   ]
  },
  {
   "cell_type": "code",
   "execution_count": 95,
   "id": "2497778a-3e04-4bd1-b7ea-1aad7c14ea65",
   "metadata": {},
   "outputs": [],
   "source": [
    "import pandas as pd\n",
    "import numpy as np"
   ]
  },
  {
   "cell_type": "code",
   "execution_count": 96,
   "id": "7bd5a2de-a61c-4b47-9e76-b64780755833",
   "metadata": {},
   "outputs": [],
   "source": [
    "# read data files\n",
    "def read_data(data):\n",
    "    sep = '\\t'\n",
    "    file = data + '.csv'\n",
    "    if data == 'images':\n",
    "        sep = ';'\n",
    "    row_data = pd.read_csv(file, sep = sep)\n",
    "    return row_data\n",
    "# size of each dataset\n",
    "def size(data, name):\n",
    "    return   print('number of recipes in {0}: {1}'.format( name, len(data)))"
   ]
  },
  {
   "cell_type": "code",
   "execution_count": 97,
   "id": "75ea3b95-0473-46fe-99c0-acc6c30b4cfd",
   "metadata": {},
   "outputs": [],
   "source": [
    "# read each category\n",
    "bbq = read_data('bbq')\n",
    "fruit_veg = read_data('fruits_vegetables')\n",
    "meat_poultry = read_data('Meat_poultry')\n",
    "pasta_noodles = read_data('pasta_and_noodles')\n",
    "salad = read_data('salad')\n",
    "seafood = read_data('Seafood')\n",
    "soups_chili = read_data('soups_stews_and_chili')\n",
    "images = read_data('images')"
   ]
  },
  {
   "cell_type": "code",
   "execution_count": 98,
   "id": "fb4a2adb-a55f-4564-8d45-09d537b3ff00",
   "metadata": {},
   "outputs": [
    {
     "name": "stdout",
     "output_type": "stream",
     "text": [
      "number of recipes in bbq: 1682\n",
      "number of recipes in fruit_veg: 19574\n",
      "number of recipes in meat_poultry: 12672\n",
      "number of recipes in pasta_noodles: 2692\n",
      "number of recipes in salad: 3031\n",
      "number of recipes in seafood: 3237\n",
      "number of recipes in soups_chili: 3605\n",
      "number of recipes in images: 162985\n"
     ]
    },
    {
     "data": {
      "text/plain": [
       "(None, None)"
      ]
     },
     "execution_count": 98,
     "metadata": {},
     "output_type": "execute_result"
    }
   ],
   "source": [
    "size(bbq, 'bbq'), size(fruit_veg, 'fruit_veg')\n",
    "size(meat_poultry, 'meat_poultry'), size(pasta_noodles, 'pasta_noodles')\n",
    "size(salad, 'salad'), size(seafood, 'seafood')\n",
    "size(soups_chili, 'soups_chili'), size(images, 'images')"
   ]
  },
  {
   "cell_type": "markdown",
   "id": "11c3d404-0082-4921-b819-e289fa089abd",
   "metadata": {},
   "source": [
    "## add category to each data"
   ]
  },
  {
   "cell_type": "code",
   "execution_count": 99,
   "id": "07a8e5a4-c9a6-4567-8df7-f1d352c577ef",
   "metadata": {},
   "outputs": [],
   "source": [
    "bbq['category'] = 'Barbecue'\n",
    "fruit_veg['category'] = 'Fruits and Vegetables'\n",
    "meat_poultry['category'] = 'Meat and Poultry'\n",
    "salad['category'] = 'Salad'\n",
    "pasta_noodles['category'] = 'Pasta and Noodles'\n",
    "seafood['category'] = 'Seafood'\n",
    "soups_chili['category'] = 'Soups and Chili'"
   ]
  },
  {
   "cell_type": "markdown",
   "id": "bbf2b3e6-3e35-48f7-93b8-b5ab7f60e3d2",
   "metadata": {},
   "source": [
    "# extract recipes that has images"
   ]
  },
  {
   "cell_type": "code",
   "execution_count": 100,
   "id": "72f88312-ab8c-4a96-b220-8f2942e48ee6",
   "metadata": {},
   "outputs": [],
   "source": [
    "def recipe_with_image(data, images):\n",
    "    images = images.drop_duplicates(subset=['recipe_id'])\n",
    "    data_with_image = pd.merge(data, images, left_on=  'URL',\n",
    "                   right_on= 'recipe_id', how='inner')\n",
    "    if data_with_image.isnull().values.any():\n",
    "           data_with_image= data_with_image.dropna()\n",
    "    data_with_image =  data_with_image.drop(['cook_id','recipe_id','date_added'], axis=1)\n",
    "    data_with_image['id'] = range(0, len(data_with_image))\n",
    "    first_column = data_with_image.pop('id')\n",
    "    data_with_image.insert(0,'id',first_column)\n",
    "    return data_with_image"
   ]
  },
  {
   "cell_type": "code",
   "execution_count": 101,
   "id": "1f7a0639-b987-47de-9fca-7c0b843fab2e",
   "metadata": {},
   "outputs": [],
   "source": [
    "final_bbq = recipe_with_image(bbq, images)\n",
    "final_fruit =  recipe_with_image(fruit_veg, images)\n",
    "final_meat_poultry =  recipe_with_image(meat_poultry, images)\n",
    "final_salad = recipe_with_image(salad, images)\n",
    "final_pasta_noodles = recipe_with_image(pasta_noodles, images)\n",
    "final_seafood = recipe_with_image(seafood, images)\n",
    "final_soups_chili = recipe_with_image(soups_chili, images)"
   ]
  },
  {
   "cell_type": "code",
   "execution_count": 102,
   "id": "b45952e1-65a5-43f1-b122-c60af9b58d23",
   "metadata": {},
   "outputs": [
    {
     "name": "stdout",
     "output_type": "stream",
     "text": [
      "number of recipes in bbq: 1200\n",
      "number of recipes in fruit_veg: 12916\n",
      "number of recipes in meat_poultry: 8375\n",
      "number of recipes in pasta_noodles: 1810\n",
      "number of recipes in salad: 2062\n",
      "number of recipes in seafood: 1931\n",
      "number of recipes in soups_chili: 2199\n"
     ]
    }
   ],
   "source": [
    "size(final_bbq, 'bbq'), size(final_fruit, 'fruit_veg')\n",
    "size(final_meat_poultry, 'meat_poultry'), size(final_pasta_noodles, 'pasta_noodles')\n",
    "size(final_salad, 'salad'), size(final_seafood, 'seafood')\n",
    "size(final_soups_chili, 'soups_chili')"
   ]
  },
  {
   "cell_type": "code",
   "execution_count": 103,
   "id": "60a8d180-a738-4648-be80-c53ce534a028",
   "metadata": {},
   "outputs": [],
   "source": [
    "final_bbq.to_csv('./Results/bbq.csv', index=False)\n",
    "final_fruit.to_csv('./Results/fruit.csv', index=False)\n",
    "final_meat_poultry.to_csv('./Results/meat_poultry.csv', index=False)\n",
    "final_pasta_noodles.to_csv('./Results/pasta_noodles.csv',index=False)\n",
    "final_salad.to_csv('./Results/salad.csv',index=False)\n",
    "final_seafood.to_csv('./Results/seafood.csv',index=False)\n",
    "final_soups_chili.to_csv('./Results/soup_chili.csv',index=False)"
   ]
  },
  {
   "cell_type": "markdown",
   "id": "37ff8477-49cf-4d36-a29f-1cdbddd58c01",
   "metadata": {},
   "source": [
    "# Concat recipes"
   ]
  },
  {
   "cell_type": "code",
   "execution_count": 104,
   "id": "a0193364-0bab-4e34-965a-cf5f83837a2f",
   "metadata": {},
   "outputs": [],
   "source": [
    "recipes = [final_bbq,final_fruit,final_meat_poultry,final_pasta_noodles,final_salad\n",
    "          ,final_seafood,final_soups_chili]\n",
    "final_recipes = pd.concat(recipes)\n",
    "final_recipes.to_csv('./Results/final_recipes.csv', index=False)"
   ]
  },
  {
   "cell_type": "code",
   "execution_count": 105,
   "id": "7f91002c-eaa1-40bc-81f4-bd7d2fdab660",
   "metadata": {},
   "outputs": [
    {
     "data": {
      "text/plain": [
       "Fruits and Vegetables    12916\n",
       "Meat and Poultry          8375\n",
       "Soups and Chili           2199\n",
       "Salad                     2062\n",
       "Seafood                   1931\n",
       "Pasta and Noodles         1810\n",
       "Barbecue                  1200\n",
       "Name: category, dtype: int64"
      ]
     },
     "execution_count": 105,
     "metadata": {},
     "output_type": "execute_result"
    }
   ],
   "source": [
    "final_recipes['category'].value_counts()"
   ]
  },
  {
   "cell_type": "markdown",
   "id": "20d94e3a-368a-4ca9-9e8c-ba9178143f8c",
   "metadata": {},
   "source": [
    "# Preapre nutrients for 100g and Nuri/Fsa score"
   ]
  },
  {
   "cell_type": "code",
   "execution_count": 106,
   "id": "1a648c05-2aae-4a72-866b-62295f505849",
   "metadata": {},
   "outputs": [
    {
     "data": {
      "text/plain": [
       "Index(['id', 'URL', 'Name', 'Fiber (g)', 'Sodium (g)', 'Carbohydrates (g)',\n",
       "       'Fat (g)', 'Protein (g)', 'Sugar (g)', 'Saturated Fat (g)', 'Size (g)',\n",
       "       'Servings', 'Calories (kCal)', 'Average Rating', 'Average Sentiment',\n",
       "       'Number of Ratings', 'Number of Bookmarks', 'Year of Publishing',\n",
       "       'category', 'image_link'],\n",
       "      dtype='object')"
      ]
     },
     "execution_count": 106,
     "metadata": {},
     "output_type": "execute_result"
    }
   ],
   "source": [
    "final_recipes = pd.read_csv('./Results/final_recipes.csv')\n",
    "final_recipes.columns"
   ]
  },
  {
   "cell_type": "code",
   "execution_count": 107,
   "id": "8ae9c392-48af-4faa-a2b2-f751399060fd",
   "metadata": {},
   "outputs": [],
   "source": [
    "final_recipes['fiber_100g'] = (final_recipes['Servings'] * final_recipes['Fiber (g)'] * 100) / final_recipes['Size (g)']\n",
    "final_recipes['fat_100g'] = (final_recipes['Servings'] * final_recipes['Fat (g)'] * 100) / final_recipes['Size (g)']\n",
    "final_recipes['sugar_100g'] = (final_recipes['Servings'] * final_recipes['Sugar (g)'] * 100) / final_recipes['Size (g)']\n",
    "final_recipes['saturated_100g'] = (final_recipes['Servings'] * final_recipes['Saturated Fat (g)'] * 100) / final_recipes['Size (g)']\n",
    "final_recipes['sodium_100mg'] = ((final_recipes['Servings'] * final_recipes['Sodium (g)'] * 100) / final_recipes['Size (g)'])*1000\n",
    "final_recipes['carbohydrates_100g'] = (final_recipes['Servings'] * final_recipes['Carbohydrates (g)'] * 100) / final_recipes['Size (g)']\n",
    "final_recipes['protein_100g'] = (final_recipes['Servings'] * final_recipes['Protein (g)'] * 100) / final_recipes['Size (g)']\n",
    "final_recipes['kj_100g'] = ((final_recipes['Servings'] * final_recipes['Calories (kCal)'] * 100) / final_recipes['Size (g)'])*4.1868\n",
    "final_recipes['Salt (g)'] = final_recipes['Sodium (g)'] * 2.54\n",
    "final_recipes['salt_100g'] = (final_recipes['Servings'] * final_recipes['Salt (g)'] * 100) / final_recipes['Size (g)']"
   ]
  },
  {
   "cell_type": "code",
   "execution_count": 108,
   "id": "45965bfa-5dda-4912-b5e9-190ba512e0a8",
   "metadata": {},
   "outputs": [],
   "source": [
    "# rename columns to match ones in database\n",
    "final_recipes = final_recipes.rename(columns={'Fiber (g)':'fiber_g','Sodium (g)':'sodium_g','Carbohydrates (g)':'carbohydrates_g',\n",
    "                                                           'Fat (g)':'fat_g','Protein (g)':'protein_g','Sugar (g)':'sugar_g',\n",
    "                                                           'Saturated Fat (g)':'saturate_g','Size (g)':'size_g',\n",
    "                                                           'Calories (kCal)':'calories_kCal', 'Salt (g)':'salt_g', 'Number of Ratings':'NumberRatings'})\n"
   ]
  },
  {
   "cell_type": "markdown",
   "id": "0b084043-1c94-40bd-8743-b186044aa89a",
   "metadata": {},
   "source": [
    "# Fsa Score based on :\n",
    "https://www.food.gov.uk/sites/default/files/media/document/fop-guidance_0.pdf"
   ]
  },
  {
   "cell_type": "code",
   "execution_count": 109,
   "id": "9d783489-6a27-4745-9c2f-f789fc180c97",
   "metadata": {},
   "outputs": [],
   "source": [
    "for i in final_recipes.index:\n",
    "    fat_count = satfat_count = sugar_count = salt_count = 2\n",
    "    if final_recipes.at[i,'fat_100g'] <= 3:\n",
    "        fat_count = 1\n",
    "    if final_recipes.at[i, 'fat_g'] > 21 or final_recipes.at[i, 'fat_100g'] > 17.5: # here the mistake :) > 17.5\n",
    "        fat_count = 3\n",
    "    if final_recipes.at[i,'saturated_100g'] <= 1.5:\n",
    "        satfat_count = 1\n",
    "    if final_recipes.at[i, 'saturate_g'] > 6 or final_recipes.at[i,'saturated_100g'] > 5:\n",
    "        satfat_count = 3\n",
    "    if final_recipes.at[i, 'sugar_100g'] <= 5:\n",
    "        sugar_count = 1\n",
    "    if final_recipes.at[i, 'sugar_100g'] > 22.5 or final_recipes.at[i, 'sugar_g'] > 27:\n",
    "        sugar_count = 3\n",
    "    if final_recipes.at[i, 'salt_100g'] <= 0.3:\n",
    "        salt_count = 1\n",
    "    if final_recipes.at[i, 'salt_100g'] > 1.5 or final_recipes.at[i, 'salt_g']> 1.8:\n",
    "        salt_count = 3 \n",
    "    final_recipes.at[i,'Fsa_new'] = fat_count + satfat_count + sugar_count + salt_count\n",
    "    final_recipes.at[i, 'fat_count'] = fat_count\n",
    "    final_recipes.at[i, 'satfat_count'] = satfat_count\n",
    "    final_recipes.at[i, 'sugar_count'] = sugar_count\n",
    "    final_recipes.at[i, 'salt_count'] = salt_count"
   ]
  },
  {
   "cell_type": "code",
   "execution_count": 110,
   "id": "7ee6c8bb-1707-49bc-b183-940415dda55c",
   "metadata": {},
   "outputs": [
    {
     "data": {
      "text/plain": [
       "4.0     1422\n",
       "5.0     2600\n",
       "6.0     4780\n",
       "7.0     4271\n",
       "8.0     4808\n",
       "9.0     4991\n",
       "10.0    6519\n",
       "11.0     895\n",
       "12.0     207\n",
       "Name: Fsa_new, dtype: int64"
      ]
     },
     "execution_count": 110,
     "metadata": {},
     "output_type": "execute_result"
    }
   ],
   "source": [
    "final_recipes['Fsa_new'].value_counts().sort_index()"
   ]
  },
  {
   "cell_type": "code",
   "execution_count": 111,
   "id": "e7ee5d33-30db-4577-ab38-cb1109987df3",
   "metadata": {},
   "outputs": [],
   "source": [
    "# Nutri score string function\n",
    "def NutriScore_string(score):\n",
    "    str_score = ''\n",
    "    if score in range(-15, 0):\n",
    "        str_score = 'A'\n",
    "    if score in range(0,3):\n",
    "        str_score = 'B'\n",
    "    if score in range(3,11):\n",
    "        str_score = 'C'\n",
    "    if score in range(11,19):\n",
    "        str_score = 'D'\n",
    "    if score in range(19,41):\n",
    "        str_score = 'E'\n",
    "    return str_score    "
   ]
  },
  {
   "cell_type": "markdown",
   "id": "91397fcb-1a09-4016-899e-0ea56da419f8",
   "metadata": {},
   "source": [
    "## Compute nutri score based on \n",
    "https://www.santepubliquefrance.fr/content/download/150263/file/2021_07_21_QR_scientifique_et_technique_V41_EN.pdf <br>\n",
    "Paper: __Development of a new front-of-pack nutrition label in France: the five-colour Nutri-Score__"
   ]
  },
  {
   "cell_type": "code",
   "execution_count": 112,
   "id": "4764bdfb-1f1d-437c-8c7e-0b2bcb5f9535",
   "metadata": {},
   "outputs": [],
   "source": [
    "# compute nutri- score\n",
    "for i in final_recipes.index.to_list():\n",
    "#     print(i)\n",
    "    # assign a point to enrgyA\n",
    "    energy = final_recipes.at[i,'kj_100g']\n",
    "    if energy > 3350:\n",
    "        kj_point = 10\n",
    "    else:\n",
    "        energy_level = energy % 335 # if the rest of is > 335 move to next point\n",
    "        if energy_level <= 335:\n",
    "            kj_point = energy // 335\n",
    "        else:\n",
    "            kj_point = (energy // 335) + 1\n",
    "    # assign a point to Sugar\n",
    "    sugar = final_recipes.at[i, 'sugar_100g']\n",
    "    if sugar > 45:\n",
    "        sg_point = 10\n",
    "    else:\n",
    "        sg_level = sugar % 4.5\n",
    "        if sg_level <= 4.5:\n",
    "            sg_point = sugar // 4.5\n",
    "        else:\n",
    "            sg_point = (sugar // 4.5) + 1\n",
    "    # assign a point to saturated_100g\n",
    "    sat_fat = final_recipes.at[i, 'saturated_100g']\n",
    "    if sat_fat > 10:\n",
    "        sf_point = 10\n",
    "    else:\n",
    "        sf_level = sat_fat % 1\n",
    "        if sf_level <= 1:\n",
    "            sf_point = sat_fat // 1\n",
    "        else:\n",
    "            sf_point = (sat_fat // 1) + 1\n",
    "    # assign a point to sodium_100mg\n",
    "    sodium = final_recipes.at[i, 'sodium_100mg']\n",
    "    if sodium > 900:\n",
    "        sdm_point = 10\n",
    "    else:\n",
    "        sdm_level = sodium % 90\n",
    "        if sdm_level <= 90:\n",
    "            sdm_point = sodium // 90\n",
    "        else:\n",
    "            sdm_point = (sodium // 90) + 1\n",
    "\n",
    "    N_point = kj_point + sg_point + sf_point + sdm_point # negative point\n",
    "\n",
    "    # positive point \n",
    "    fiber = final_recipes.at[i, 'fiber_100g']\n",
    "    protien = final_recipes.at[i, 'protein_g']\n",
    "    # fiber\n",
    "    if fiber > 4.7:\n",
    "        fb_point = 5\n",
    "    else:\n",
    "        fb_level = fiber % 0.9\n",
    "        if fb_level <= 0.9:\n",
    "            fb_point = fiber // 0.9\n",
    "        else:\n",
    "            fb_point = (fiber // 0.9) + 1\n",
    "    # protien\n",
    "    if protien > 8:\n",
    "        pr_point = 5\n",
    "    else:\n",
    "        pr_level = protien % 1.6\n",
    "        if pr_level <= 1.6:\n",
    "            pr_point = protien // 1.6\n",
    "        else:\n",
    "            pr_point = (protien // 1.6) + 1\n",
    "    if N_point > 11:\n",
    "        P_point = fb_point\n",
    "    else:\n",
    "        P_point = fb_point + pr_point\n",
    "\n",
    "    # Nutri score\n",
    "    Score = N_point - P_point\n",
    "#     print(Score)\n",
    "    final_recipes.at[i, 'Nutri_score'] = NutriScore_string(Score) # fct above"
   ]
  },
  {
   "cell_type": "code",
   "execution_count": 113,
   "id": "2c277a30-f311-4082-adb6-2a361fcc5d85",
   "metadata": {},
   "outputs": [
    {
     "data": {
      "text/plain": [
       "A    11425\n",
       "B     7215\n",
       "C     6348\n",
       "D     4552\n",
       "E      953\n",
       "Name: Nutri_score, dtype: int64"
      ]
     },
     "execution_count": 113,
     "metadata": {},
     "output_type": "execute_result"
    }
   ],
   "source": [
    "final_recipes.Nutri_score.value_counts().sort_index()"
   ]
  },
  {
   "cell_type": "code",
   "execution_count": 114,
   "id": "f98df789-45c4-44d5-8ebe-3cab7ad9e67b",
   "metadata": {},
   "outputs": [
    {
     "data": {
      "text/plain": [
       "Index(['userid', 'recipeid', 'rating', 'Name'], dtype='object')"
      ]
     },
     "execution_count": 114,
     "metadata": {},
     "output_type": "execute_result"
    }
   ],
   "source": [
    "# read recipes with ratings\n",
    "rating_profile = pd.read_csv('Rating-Profile_Merged.csv', sep=';')\n",
    "rating_profile = rating_profile.rename(columns = {'name':'Name'})\n",
    "rating_profile = rating_profile[['userid','recipeid','rating','Name']]\n",
    "rating_profile.columns"
   ]
  },
  {
   "cell_type": "code",
   "execution_count": 115,
   "id": "bc99392c-e764-4564-bcd2-9429a01cd9b9",
   "metadata": {},
   "outputs": [
    {
     "data": {
      "text/plain": [
       "Meat and Poultry         39332\n",
       "Fruits and Vegetables    17328\n",
       "Pasta and Noodles         5924\n",
       "Barbecue                  5665\n",
       "Seafood                   5382\n",
       "Salad                       68\n",
       "Name: category, dtype: int64"
      ]
     },
     "execution_count": 115,
     "metadata": {},
     "output_type": "execute_result"
    }
   ],
   "source": [
    "final_recipes = final_recipes.merge(rating_profile, on = 'Name')\n",
    "final_recipes.category.value_counts()"
   ]
  },
  {
   "cell_type": "code",
   "execution_count": 116,
   "id": "2d4bd346-ba94-4022-a772-e139fe0a05cd",
   "metadata": {},
   "outputs": [
    {
     "data": {
      "text/plain": [
       "Index(['id', 'URL', 'Name', 'fiber_g', 'sodium_g', 'carbohydrates_g', 'fat_g',\n",
       "       'protein_g', 'sugar_g', 'saturate_g', 'size_g', 'Servings',\n",
       "       'calories_kCal', 'Average Rating', 'Average Sentiment', 'NumberRatings',\n",
       "       'Number of Bookmarks', 'Year of Publishing', 'category', 'image_link',\n",
       "       'fiber_100g', 'fat_100g', 'sugar_100g', 'saturated_100g',\n",
       "       'sodium_100mg', 'carbohydrates_100g', 'protein_100g', 'kj_100g',\n",
       "       'salt_g', 'salt_100g', 'Fsa_new', 'fat_count', 'satfat_count',\n",
       "       'sugar_count', 'salt_count', 'Nutri_score', 'userid', 'recipeid',\n",
       "       'rating'],\n",
       "      dtype='object')"
      ]
     },
     "execution_count": 116,
     "metadata": {},
     "output_type": "execute_result"
    }
   ],
   "source": [
    "final_recipes.columns"
   ]
  },
  {
   "cell_type": "code",
   "execution_count": 117,
   "id": "94d49316-dd63-45d6-b17e-7b0530719210",
   "metadata": {},
   "outputs": [],
   "source": [
    "final_recipes = final_recipes[['recipeid','userid','rating','URL','Name','fiber_g','sodium_g','carbohydrates_g','fat_g','protein_g','sugar_g','saturate_g', 'size_g','Servings',\n",
    "                  'calories_kCal','category','image_link','fat_100g','fiber_100g','sugar_100g','saturated_100g','protein_100g','sodium_100mg',  \n",
    "                  'carbohydrates_100g','kj_100g','Nutri_score','Fsa_new','salt_100g','salt_g','fat_count','satfat_count','sugar_count','salt_count','NumberRatings']]"
   ]
  },
  {
   "cell_type": "markdown",
   "id": "aa86e87b-0ab3-48b6-8829-41ec780f956a",
   "metadata": {},
   "source": [
    "### Split based on Fsa score, with a thershold 8"
   ]
  },
  {
   "cell_type": "code",
   "execution_count": 118,
   "id": "dfd5b0e6-9fa0-4bc1-a97b-99b2f1c732fd",
   "metadata": {},
   "outputs": [],
   "source": [
    "final_healthy = final_recipes[final_recipes.Fsa_new <= 8]\n",
    "final_unhealthy = final_recipes[final_recipes.Fsa_new > 8]"
   ]
  },
  {
   "cell_type": "markdown",
   "id": "be998c50-ccb7-48be-aa5f-b2299f89d8d7",
   "metadata": {},
   "source": [
    "### Split based on category"
   ]
  },
  {
   "cell_type": "code",
   "execution_count": 119,
   "id": "8559e216-e3ed-44a0-a82b-793e678a5b2b",
   "metadata": {},
   "outputs": [],
   "source": [
    "def split_data(category):\n",
    "    h_cat_data = final_healthy[final_healthy.category == category][['recipeid','userid','rating']]\n",
    "    unh_cat_data = final_unhealthy[final_unhealthy.category == category][['recipeid','userid','rating']]\n",
    "    \n",
    "    # save data h/unh rating matrix\n",
    "    h_cat_data.to_csv('./recipe_recommender/rating_matrix/h_'+category.replace(' ','_')+'.csv', index=False, header=False)\n",
    "    unh_cat_data.to_csv('./recipe_recommender/rating_matrix//unh_'+category.replace(' ','_')+'.csv', index=False, header=False)\n",
    "    \n",
    "    return \"ok :)\""
   ]
  },
  {
   "cell_type": "code",
   "execution_count": 120,
   "id": "98aa9f8d-3eb5-4e1c-a8d8-79c19b19651f",
   "metadata": {},
   "outputs": [],
   "source": [
    "for cat in final_healthy.category.value_counts().index:\n",
    "    split_data(cat)"
   ]
  },
  {
   "cell_type": "code",
   "execution_count": 121,
   "id": "1a20c0ca-683c-4c8e-8a38-a6cbc6f0227e",
   "metadata": {},
   "outputs": [],
   "source": [
    "final_healthy.drop_duplicates(subset=['recipeid'], inplace=True)\n",
    "final_unhealthy.drop_duplicates(subset=['recipeid'], inplace=True)"
   ]
  },
  {
   "cell_type": "code",
   "execution_count": 122,
   "id": "9057b41e-b66c-49b1-b881-9d813b469f5f",
   "metadata": {},
   "outputs": [
    {
     "data": {
      "text/plain": [
       "Index(['recipeid', 'userid', 'rating', 'URL', 'Name', 'fiber_g', 'sodium_g',\n",
       "       'carbohydrates_g', 'fat_g', 'protein_g', 'sugar_g', 'saturate_g',\n",
       "       'size_g', 'Servings', 'calories_kCal', 'category', 'image_link',\n",
       "       'fat_100g', 'fiber_100g', 'sugar_100g', 'saturated_100g',\n",
       "       'protein_100g', 'sodium_100mg', 'carbohydrates_100g', 'kj_100g',\n",
       "       'Nutri_score', 'Fsa_new', 'salt_100g', 'salt_g', 'fat_count',\n",
       "       'satfat_count', 'sugar_count', 'salt_count', 'NumberRatings'],\n",
       "      dtype='object')"
      ]
     },
     "execution_count": 122,
     "metadata": {},
     "output_type": "execute_result"
    }
   ],
   "source": [
    "final_healthy.columns"
   ]
  },
  {
   "cell_type": "code",
   "execution_count": 123,
   "id": "164f3884-80c3-4781-9a5a-16717ad1fe21",
   "metadata": {},
   "outputs": [],
   "source": [
    "final_healthy = final_healthy.rename(columns={'recipeid':'id'})\n",
    "final_unhealthy = final_unhealthy.rename(columns={'recipeid':'id'})"
   ]
  },
  {
   "cell_type": "code",
   "execution_count": 124,
   "id": "c0428793-a178-424d-aee6-455cfa91cd85",
   "metadata": {},
   "outputs": [],
   "source": [
    "final_healthy.drop(columns=['userid','rating'], inplace=True)\n",
    "final_unhealthy.drop(columns=['userid','rating'], inplace=True)"
   ]
  },
  {
   "cell_type": "code",
   "execution_count": 125,
   "id": "304d74a1-bbcd-4d9e-b3d9-373c2b6cb056",
   "metadata": {},
   "outputs": [],
   "source": [
    "final_healthy.to_csv('./Final_recipes/F_V_healthy.csv', index=False, sep=';')\n",
    "final_unhealthy.to_csv('./Final_recipes/F_V_unhealthy.csv', index=False, sep=';')"
   ]
  },
  {
   "cell_type": "markdown",
   "id": "98a11627-7e58-4c24-9ccc-e822d5617b74",
   "metadata": {},
   "source": [
    "# Rating Matrix"
   ]
  },
  {
   "cell_type": "code",
   "execution_count": 126,
   "id": "1b0f6c05-c746-4eaf-ad3c-9280ba80121e",
   "metadata": {},
   "outputs": [
    {
     "data": {
      "text/html": [
       "<div>\n",
       "<style scoped>\n",
       "    .dataframe tbody tr th:only-of-type {\n",
       "        vertical-align: middle;\n",
       "    }\n",
       "\n",
       "    .dataframe tbody tr th {\n",
       "        vertical-align: top;\n",
       "    }\n",
       "\n",
       "    .dataframe thead th {\n",
       "        text-align: right;\n",
       "    }\n",
       "</style>\n",
       "<table border=\"1\" class=\"dataframe\">\n",
       "  <thead>\n",
       "    <tr style=\"text-align: right;\">\n",
       "      <th></th>\n",
       "      <th>rid</th>\n",
       "      <th>uid</th>\n",
       "      <th>rt</th>\n",
       "    </tr>\n",
       "  </thead>\n",
       "  <tbody>\n",
       "    <tr>\n",
       "      <th>0</th>\n",
       "      <td>1058</td>\n",
       "      <td>50730</td>\n",
       "      <td>5</td>\n",
       "    </tr>\n",
       "    <tr>\n",
       "      <th>1</th>\n",
       "      <td>1058</td>\n",
       "      <td>30077</td>\n",
       "      <td>4</td>\n",
       "    </tr>\n",
       "    <tr>\n",
       "      <th>2</th>\n",
       "      <td>1058</td>\n",
       "      <td>78714</td>\n",
       "      <td>4</td>\n",
       "    </tr>\n",
       "    <tr>\n",
       "      <th>3</th>\n",
       "      <td>1058</td>\n",
       "      <td>66074</td>\n",
       "      <td>5</td>\n",
       "    </tr>\n",
       "    <tr>\n",
       "      <th>4</th>\n",
       "      <td>1058</td>\n",
       "      <td>22345</td>\n",
       "      <td>5</td>\n",
       "    </tr>\n",
       "  </tbody>\n",
       "</table>\n",
       "</div>"
      ],
      "text/plain": [
       "    rid    uid  rt\n",
       "0  1058  50730   5\n",
       "1  1058  30077   4\n",
       "2  1058  78714   4\n",
       "3  1058  66074   5\n",
       "4  1058  22345   5"
      ]
     },
     "execution_count": 126,
     "metadata": {},
     "output_type": "execute_result"
    }
   ],
   "source": [
    "h_Pasta_and_Noodles = pd.read_csv('recipe_recommender/rating_matrix/h_Pasta_and_Noodles.csv', names=['rid','uid','rt'])\n",
    "h_Pasta_and_Noodles.head()"
   ]
  },
  {
   "cell_type": "markdown",
   "id": "dcedeef7-1ea6-4f88-8f5a-eb7fe2f2c2f5",
   "metadata": {},
   "source": [
    "# Prepare to push to database"
   ]
  },
  {
   "cell_type": "code",
   "execution_count": 320,
   "id": "3298eab7-3e85-47df-9608-bd60ef8c3dae",
   "metadata": {},
   "outputs": [],
   "source": [
    "import pyodbc\n",
    "import psycopg2"
   ]
  },
  {
   "cell_type": "code",
   "execution_count": 321,
   "id": "af69c272-924b-472a-b722-984142eabfc0",
   "metadata": {},
   "outputs": [],
   "source": [
    "conn = psycopg2.connect(\"host=localhost dbname=labelingdb user=ayoub password=ayoub1234\")\n",
    "cur = conn.cursor()"
   ]
  },
  {
   "cell_type": "code",
   "execution_count": 262,
   "id": "990cc864-408b-4f5e-be18-bf7dabe36eea",
   "metadata": {},
   "outputs": [],
   "source": [
    "import csv \n",
    "\n",
    "with open('./Final_recipes/F_V_healthy.csv') as f:\n",
    "#     reader = csv.reader(f)\n",
    "#     next(reader)\n",
    "    next(f)\n",
    "#     for row in reader:\n",
    "#         cur.execute(\n",
    "#         'INSERT into \"Labels_Nudges_recipes\" Values (%s,%s,%s,%s,%s,%s,%s,%s,%s,%s)',\n",
    "#             row\n",
    "        \n",
    "#         )\n",
    "    cur.copy_from(f, 'HealthyRecipe', sep=';',columns=(\n",
    "                     'id','URL','Name','fiber_g','sodium_g','carbohydrates_g','fat_g','protein_g','sugar_g','saturate_g', 'size_g','Servings',\n",
    "                  'calories_kCal','category','image_link','fat_100g','fiber_100g','sugar_100g','saturated_100g','protien_100g','sodium_100mg',  \n",
    "                  'carbohydrates_100g','kj_100g','Nutri_score','Fsa_new','salt_100g','salt_g','fat_count','satfat_count','sugar_count','salt_count'  \n",
    "                  ))\n",
    "conn.commit()"
   ]
  },
  {
   "cell_type": "code",
   "execution_count": 322,
   "id": "81434bd1-6794-4399-82ca-efb7f91b36bc",
   "metadata": {},
   "outputs": [],
   "source": [
    "import csv \n",
    "\n",
    "with open('./Final_recipes/F_V_unhealthy.csv') as f:\n",
    "#     reader = csv.reader(f)\n",
    "#     next(reader)\n",
    "    next(f)\n",
    "#     for row in reader:\n",
    "#         cur.execute(\n",
    "#         'INSERT into \"Labels_Nudges_recipes\" Values (%s,%s,%s,%s,%s,%s,%s,%s,%s,%s)',\n",
    "#             row\n",
    "        \n",
    "#         )\n",
    "    cur.copy_from(f, 'UnhealthyRecipe', sep=';',columns=(\n",
    "                     'id','URL','Name','fiber_g','sodium_g','carbohydrates_g','fat_g','protein_g','sugar_g','saturate_g', 'size_g','Servings',\n",
    "                  'calories_kCal','category','image_link','fat_100g','fiber_100g','sugar_100g','saturated_100g','protien_100g','sodium_100mg',  \n",
    "                  'carbohydrates_100g','kj_100g','Nutri_score','Fsa_new','salt_100g','salt_g','fat_count','satfat_count','sugar_count','salt_count'  \n",
    "                  ))\n",
    "conn.commit()"
   ]
  },
  {
   "cell_type": "code",
   "execution_count": 323,
   "id": "213ad9cb-6732-4337-a3e9-af4cdac33850",
   "metadata": {},
   "outputs": [],
   "source": [
    "conn.close()"
   ]
  }
 ],
 "metadata": {
  "kernelspec": {
   "display_name": "Python 3",
   "language": "python",
   "name": "python3"
  },
  "language_info": {
   "codemirror_mode": {
    "name": "ipython",
    "version": 3
   },
   "file_extension": ".py",
   "mimetype": "text/x-python",
   "name": "python",
   "nbconvert_exporter": "python",
   "pygments_lexer": "ipython3",
   "version": "3.8.8"
  },
  "widgets": {
   "application/vnd.jupyter.widget-state+json": {
    "state": {},
    "version_major": 2,
    "version_minor": 0
   }
  }
 },
 "nbformat": 4,
 "nbformat_minor": 5
}
